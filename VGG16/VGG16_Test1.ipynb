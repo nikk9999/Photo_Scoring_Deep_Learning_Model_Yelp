{
 "cells": [
  {
   "cell_type": "code",
   "execution_count": 1,
   "metadata": {},
   "outputs": [
    {
     "name": "stderr",
     "output_type": "stream",
     "text": [
      "Using TensorFlow backend.\n"
     ]
    },
    {
     "name": "stdout",
     "output_type": "stream",
     "text": [
      "_________________________________________________________________\n",
      "Layer (type)                 Output Shape              Param #   \n",
      "=================================================================\n",
      "input_1 (InputLayer)         (None, None, None, 3)     0         \n",
      "_________________________________________________________________\n",
      "block1_conv1 (Conv2D)        (None, None, None, 64)    1792      \n",
      "_________________________________________________________________\n",
      "block1_conv2 (Conv2D)        (None, None, None, 64)    36928     \n",
      "_________________________________________________________________\n",
      "block1_pool (MaxPooling2D)   (None, None, None, 64)    0         \n",
      "_________________________________________________________________\n",
      "block2_conv1 (Conv2D)        (None, None, None, 128)   73856     \n",
      "_________________________________________________________________\n",
      "block2_conv2 (Conv2D)        (None, None, None, 128)   147584    \n",
      "_________________________________________________________________\n",
      "block2_pool (MaxPooling2D)   (None, None, None, 128)   0         \n",
      "_________________________________________________________________\n",
      "block3_conv1 (Conv2D)        (None, None, None, 256)   295168    \n",
      "_________________________________________________________________\n",
      "block3_conv2 (Conv2D)        (None, None, None, 256)   590080    \n",
      "_________________________________________________________________\n",
      "block3_conv3 (Conv2D)        (None, None, None, 256)   590080    \n",
      "_________________________________________________________________\n",
      "block3_pool (MaxPooling2D)   (None, None, None, 256)   0         \n",
      "_________________________________________________________________\n",
      "block4_conv1 (Conv2D)        (None, None, None, 512)   1180160   \n",
      "_________________________________________________________________\n",
      "block4_conv2 (Conv2D)        (None, None, None, 512)   2359808   \n",
      "_________________________________________________________________\n",
      "block4_conv3 (Conv2D)        (None, None, None, 512)   2359808   \n",
      "_________________________________________________________________\n",
      "block4_pool (MaxPooling2D)   (None, None, None, 512)   0         \n",
      "_________________________________________________________________\n",
      "block5_conv1 (Conv2D)        (None, None, None, 512)   2359808   \n",
      "_________________________________________________________________\n",
      "block5_conv2 (Conv2D)        (None, None, None, 512)   2359808   \n",
      "_________________________________________________________________\n",
      "block5_conv3 (Conv2D)        (None, None, None, 512)   2359808   \n",
      "_________________________________________________________________\n",
      "block5_pool (MaxPooling2D)   (None, None, None, 512)   0         \n",
      "=================================================================\n",
      "Total params: 14,714,688\n",
      "Trainable params: 14,714,688\n",
      "Non-trainable params: 0\n",
      "_________________________________________________________________\n",
      "(1, 7, 7, 512)\n"
     ]
    }
   ],
   "source": [
    "from keras.preprocessing import image\n",
    "from keras.applications.vgg16 import VGG16\n",
    "from keras.applications.vgg16 import preprocess_input\n",
    "import numpy as np\n",
    "\n",
    "model = VGG16(weights='imagenet', include_top=False)\n",
    "model.summary()\n",
    "\n",
    "img_path = 'labeledYelp/_8B40xRtabQop1QXbpGTtA.jpg'\n",
    "img = image.load_img(img_path, target_size=(224, 224))\n",
    "img_data = image.img_to_array(img)\n",
    "img_data = np.expand_dims(img_data, axis=0)\n",
    "img_data = preprocess_input(img_data)\n",
    "\n",
    "vgg16_feature = model.predict(img_data)\n",
    "\n",
    "print(vgg16_feature.shape)"
   ]
  },
  {
   "cell_type": "code",
   "execution_count": 10,
   "metadata": {},
   "outputs": [],
   "source": [
    "import glob\n",
    "gl = glob.glob(\"/home/nihira/Documents/CS6220BigData/Project/neural-image-assessment-master/labeledYelp/*.jpg\")\n"
   ]
  },
  {
   "cell_type": "code",
   "execution_count": 12,
   "metadata": {},
   "outputs": [
    {
     "data": {
      "text/plain": [
       "483"
      ]
     },
     "execution_count": 12,
     "metadata": {},
     "output_type": "execute_result"
    }
   ],
   "source": [
    "len(gl)"
   ]
  },
  {
   "cell_type": "code",
   "execution_count": 31,
   "metadata": {},
   "outputs": [
    {
     "data": {
      "text/plain": [
       "'/home/nihira/Documents/CS6220BigData/Project/neural-image-assessment-master/labeledYelp/1d_XuE0VXZrk7Lg2rWJPSA.jpg'"
      ]
     },
     "execution_count": 31,
     "metadata": {},
     "output_type": "execute_result"
    }
   ],
   "source": [
    "gl[0]"
   ]
  },
  {
   "cell_type": "code",
   "execution_count": 35,
   "metadata": {},
   "outputs": [],
   "source": [
    "filenames = []\n",
    "for glo in gl:\n",
    "    filenames.append(glo.split(\"/\")[8].split(\".\")[0])"
   ]
  },
  {
   "cell_type": "code",
   "execution_count": 36,
   "metadata": {},
   "outputs": [
    {
     "data": {
      "text/plain": [
       "['1d_XuE0VXZrk7Lg2rWJPSA',\n",
       " 'Oo_KccMeUkRD63hx_ZeZ_Q',\n",
       " 'MUIpOCyz4a_5y2Q3DTDAMw',\n",
       " '5plEFhaWQ-B5cAJV7Z149A',\n",
       " '2ktcMAwYqlDItbdJAcmsgg',\n",
       " 'NXqmR3LSC2vbBNOXBhRXWw',\n",
       " '3_aqX0h0qEWn0yTgO_ylLQ',\n",
       " '9amMreV0_yzf-zPuoqWcQw',\n",
       " 'miWLW-CWt-rNPu1Gy3tsoA',\n",
       " '4jG_cpLbEXfdIuepBjUkZA',\n",
       " '3eHqLyU3TxZXTw4Snb0d5g',\n",
       " '-s6uWGKVWLu4LNizzC5wLA',\n",
       " '-ec3BgguIDOhPVbhzaeziQ',\n",
       " 'Nbol0AoGgtjcOgVU95BYIQ',\n",
       " 'oLdv2eoe7ExsQ2R5SgfcZQ',\n",
       " '0j_bF0pKpTEU9u5PFUafnw',\n",
       " '14Vk0Bdb8DE5PANNdSt0QA',\n",
       " 'K43uEOOwbPzdMB1e8rUNjw',\n",
       " 'NboWMv9jPl91IxRdBT7NeA',\n",
       " 'KcV3MAv_5NI43SZq3HzO_g',\n",
       " '6HGJ4yG_w2GWIsz4l9bkJg',\n",
       " 'MaHdbt39e48mTrvCfzkQ5A',\n",
       " '0tVQPZxdQOiA2DuH_-6uxQ',\n",
       " '0UbPYe5yOKJT1HJwI5iQlw',\n",
       " 'mYf5YwI9euz7Qli5_Y8HZw',\n",
       " '1IWFhOm6OndmHeepEt0DFQ',\n",
       " 'Olu_2tzPXwtITwHaci9seg',\n",
       " '5Cb16nLyythribtZ0FUqYA',\n",
       " '3rwvCF1sdEWwlE44aR_SCA',\n",
       " '-oOleqTMDU-7r-Bl6Rexbg',\n",
       " 'JtFxGCMMASZh2pDApFQRmA',\n",
       " 'o75bsf6D0LFU1mNMBmAEYg',\n",
       " '9MgvjaAQvelJR4qhiVjxOw',\n",
       " 'ldDR91kS8V_vp52yN7ATDA',\n",
       " 'MxmcFtgNd7OxaJdPiTctNA',\n",
       " 'KMyjAg1Ju7hlMWxDQAQ-vA',\n",
       " '7pf0iIYgLKAPormuMltP1g',\n",
       " 'o00dISpPpG4n-FxohRZaKQ',\n",
       " '_80kyh9A5cFNG-RwwDR6iA',\n",
       " 'M68f-ZiQsrsEsldqx9-ABg',\n",
       " 'kbMbTiT0BYU_DeejPptwWQ',\n",
       " 'o74urearQ-ZQumzxAWvOAg',\n",
       " 'jTH5rOvPnKarz2RFGTnaZQ',\n",
       " 'OcNHTiRwj30PtPrJLJh8NQ',\n",
       " 'o0ypaZkOK-ZuLPjs0-8qBg',\n",
       " '9tE1VWVEDENNDGYsbCMfIw',\n",
       " 'mPKdnFAl2h9_Du5AJhDQMw',\n",
       " 'ktExz1hvUQ7iAmtcNwvnpQ',\n",
       " '7twqLFKsxbdDMn_0CVTgkw',\n",
       " 'Kc-VoawOvwGU4WpeQBPjTA',\n",
       " '3D4g1j7hKLGY24LMRC8WwA',\n",
       " 'MHLtMTs685wfU6k1mRixeA',\n",
       " '6VOIZFYPnm_xZaK226e92A',\n",
       " 'MU6EKFxAwYaHm58r7SMtoA',\n",
       " '5vZ8NvRZxj8mXt1W87SL2Q',\n",
       " 'k1zurf5QnwO4JqPgZqdIeA',\n",
       " '-H1D6vTVYH0maVe1eqAIqg',\n",
       " '0I4VeSsBZ9Wrro9M_lO5nw',\n",
       " '0G40bb59hlN1R8UymztpLw',\n",
       " 'jJpRSc5m1t6Wt4PZfIl2Tg',\n",
       " '1FZPBOwyMLZ1_9dExwybRQ',\n",
       " '31uHnco_HOWtMxrhpS_-7A',\n",
       " '3XXI4WvZHmNjPcYw1k_p7g',\n",
       " '66a4hYKLvNe2bcCsM03Igw',\n",
       " '3G5IDosY4aiEEwiuTrCYfA',\n",
       " '3uhp0bF3fNoT8Eh_wplQ5g',\n",
       " '-FfDw_gBQ6vNjwUzHsclAw',\n",
       " 'MamTK0tuYjdj45705I1_Jg',\n",
       " 'Kswi0ci3HM7ZSHkYTFCDKg',\n",
       " 'OiHcQQyfYd0oIjeBlpWShQ',\n",
       " '4KbSACKfgsewpo9daEJ2ww',\n",
       " '6uAysW6JlgQAb7GFtP1MUw',\n",
       " '7Yk5xLU2ZFPgKiEkzV-TFw',\n",
       " 'N77WnBJJ395qbB1F92COeg',\n",
       " 'MQ88R-yEwM3kvrvqXpEsNg',\n",
       " 'lpLer5nteH887-nMbwzSJg',\n",
       " 'O6QHwaeIZCc3ArQFmoDF3w',\n",
       " '3pLdQngTJZ68TjhjoHCquw',\n",
       " 'mGQOjFJT7fjNseuNSn2mWA',\n",
       " 'O96UwAf-mmmkQoI9fL3enA',\n",
       " 'k2g5_7dCq_ZOqOarHk8Q5g',\n",
       " '1xcAwb9McEL9oWdUu6vBxw',\n",
       " '7C38m8bB7B-t2Eo3cnUejw',\n",
       " 'mVDCpm7ZB0XWzZQ99Hi-pg',\n",
       " 'n9viTLQwqGS1ZNC1nZmIIg',\n",
       " '2Ttlf7S_W7m7mj8J6VMmXg',\n",
       " '5XD1YDpmEEUHClqIzF9aNg',\n",
       " 'Kpr994zI9iFHQjEn3I9WIA',\n",
       " 'KIeGlrx3kb-wWLDM1YJHag',\n",
       " '4FMVvay0veBDVdcP6IOBVg',\n",
       " '9LofagZDbbkWfudVdrOw0w',\n",
       " '5sXvesuQ0Bdk9XLyz0ToKA',\n",
       " '1garSKHR776z4c1FDVqzZw',\n",
       " '1dewYYDikjBge3HJR1jN0Q',\n",
       " '9XHM_E5cBYY-UypYKrSfiA',\n",
       " 'jMZ-BQeaz1JumI9UzDHLZA',\n",
       " '1ZbWePd0TvcDjTcS01EOAQ',\n",
       " '5cifOwo6xOcxGyiHdVqGPA',\n",
       " '9SJXDENdD9Wi0iLFJJiGgw',\n",
       " '0QGXPEHptB5UYxecQGjEOQ',\n",
       " '3kWfBRXc94YASCXU5JESdg',\n",
       " '4YvsQMAp5euVd1DEsWplPA',\n",
       " '3T-0yA0ZO8Hu56BXMfknLA',\n",
       " '4thhGA8493noQbyJ15_VRw',\n",
       " '4EwBWy-Y7Zbq_vBt3Laziw',\n",
       " 'NxtTYv8Dp_ODekJJfo9v-w',\n",
       " '_BKqltZZ09AKm8W9KWvEwA',\n",
       " 'Kv9z4CJh5RYPCyaEnqWJaw',\n",
       " 'NKLscWXAOAdJT1zDwQzgig',\n",
       " '1rACkWIFmI2KZJZOl9OfqQ',\n",
       " '3wweKaxI9_1ovaaqp_ZKmw',\n",
       " '0T2uBcCmVG_iBqKb5L3dBA',\n",
       " '0t2b6CwNv9mYEuKsyiHc3g',\n",
       " 'nn8Gq3PvWCTX5XKD0DRpJw',\n",
       " '4WZkf7q7caKqNH6tBEXGCA',\n",
       " 'Nt4pUL5G4vaT8s1l8SBnfg',\n",
       " '6DXZ3M5XBNl7fOYwIYzq_A',\n",
       " 'mVAfFeCPbFG-wkEU8odwMQ',\n",
       " 'kvv2yFBxAJOrYsqKQMfokQ',\n",
       " '8_d9fuyjHa2Bto9op0X-EQ',\n",
       " 'ok85I5JzYx2xNz_tPNL5mA',\n",
       " '0TosoMgE4FEGj2fWc06X3w',\n",
       " 'lXVJLzBNEd5qWuoX1d1okQ',\n",
       " '4E2GPuc5CesxBWW699jEWw',\n",
       " '5gOM_SLc6xIEfNoCeZbdxw',\n",
       " 'nGli9cK86x8ebqhcu2i1Wg',\n",
       " 'jXzoSHyDQ2FiDwfuk9lB4g',\n",
       " '0nv5J1QVNhYRgjZiR9iNBw',\n",
       " '1QmX1tqFdlr09_CN9qKmoA',\n",
       " '_Ayb6aCcsIMfJgf1_jtO3w',\n",
       " 'k2Cyn7nggEO9sQNJ3DM79g',\n",
       " 'LSaWS_NTyaBhkSB7z2Zzxw',\n",
       " 'O9vzywreRNlMg3issJOC_A',\n",
       " '_dNrAN9Zfjvy91Ek4Zqqcw',\n",
       " 'JZl7eB2aWiID4R4VRKqALg',\n",
       " '0tWKKnoaLc8NozcVURExDA',\n",
       " '4XDhfrCg6tfq93cy1u7AKw',\n",
       " 'jiDbHbkCKOUZ23DZerEXdw',\n",
       " '20IVIuX0-Z-OkvtPl7umUA',\n",
       " 'mXOe38svuwxpf97U-RV-ZQ',\n",
       " 'lCUkdRVoXooTmO80cOUOAQ',\n",
       " 'jZ8TFLASi8Q91oh8V9zzfw',\n",
       " 'MK6xyLU_xAivI-IfkJQZrg',\n",
       " '9bQoTdEkai2k7W5ftkA0Hw',\n",
       " '9MAg9hBJFU75Qj4vW5PTZw',\n",
       " 'OnQvHUKxCajAiZGG5hejqQ',\n",
       " '1Gpgg_6NHyH0e8RjoITozQ',\n",
       " 'MWzxUpE_k96ZutarGlFPpA',\n",
       " '4czkWgaWItIdnuQJ0mf_yw',\n",
       " 'L1-ukmSNUaLE4Wuq3OTLsA',\n",
       " 'lrqH_skEsoYMsLgi4N2Q5Q',\n",
       " '4cNQsJTziciMC_bDzUdEqg',\n",
       " 'nd7WIjeLd1ZQgZ4TAKx6cw',\n",
       " 'mcy4h92Hf7w_ucD26vxMNA',\n",
       " 'MCprMALgkEv9cFELecO06w',\n",
       " '5rFq4ochnB8H7glLehZ3cQ',\n",
       " 'lt3Oe20lpIkrcjNQVRV2ag',\n",
       " '5rMURL_HZtYlVgNilqJjXA',\n",
       " 'jzc4UQcPLB6HvgJyV6ybSQ',\n",
       " 'MJdNDAEKSrrNBnGwdprW6A',\n",
       " '9IuBxZjyIa3s3HMX3boPFg',\n",
       " 'JlDokWSBsoYYbCfgfP6xlw',\n",
       " 'K-u5VRkAL1oxYrhmA6fNpg',\n",
       " '2zMH2-HLL-jC0tmzGvaAdA',\n",
       " 'ju6av_8td6eDX30RQ9V6Hg',\n",
       " 'mZDE1Pc1XSs6lvm0_1-sPg',\n",
       " '7QmVsdgwKaECif2uL80W2w',\n",
       " '3Q166QCV69FH0lezoIBUNg',\n",
       " 'm1EcGSx5wTyf988eaXCmBA',\n",
       " 'mzX5g3qZa7xeLeUMlNWF8Q',\n",
       " '_xjI0KR2HHb_X9c_CBRXCA',\n",
       " 'kt-LTyV6COqjVp9y8qfhjA',\n",
       " 'KQ9DpXOFoaswwEho7a8IbA',\n",
       " 'O05BDzWvLNSeA1qVsFcpZg',\n",
       " 'n-V0Xz7k1sTbag8MPQ-xgg',\n",
       " 'OdMNU7HPdxTLXzTPl9vQew',\n",
       " 'jrgO2P6MxRy9MnKurfJdcg',\n",
       " '6p_VHtnsn0UTQl_2thNA3w',\n",
       " 'mut1oonNpRIIlJcL7F5zkA',\n",
       " '7b8n8YIbXbevf4Vv74__7Q',\n",
       " 'KV4lmWq-7cVXiYRVHvQFsA',\n",
       " 'MhrIjvR12XDqIvgu9kIFSA',\n",
       " 'kJya3OowyPsHg1HEK8vBDg',\n",
       " 'KbHF2E-ZxgLfiswVGv0hWw',\n",
       " '_mM3GMsJnxacanUk4waIzw',\n",
       " 'NRnoYS-2MMEPU7Qw9QUW6g',\n",
       " 'laph9e2dc8rU_XNZkpeYRw',\n",
       " '7AbXCwENEOMgFxzslqNe2g',\n",
       " '5OPOhyHNVIBp91_qHuofvQ',\n",
       " '9XOacvwPfIUvQFwTfqLB1w',\n",
       " '5fGeS-FDf6AWpYIrfIMFkw',\n",
       " '3RMFCcTmrruUUrxHZ4swrQ',\n",
       " 'LKJIvNdUHLOboUXj5mmQsg',\n",
       " 'MWKFA_rtRXkhVpGEDfN44w',\n",
       " '16Yvs6OrIg5NvcJQlVKJqw',\n",
       " '-TdX8PBidQ3Qx5Ddj_kYTA',\n",
       " 'kmb1PfS7GHRGy75LQr9xoQ',\n",
       " 'loh3-FSJhTQJdl0YLF-rIQ',\n",
       " '0dF4QuO26y4FITKhuRvXmg',\n",
       " '5H6DqmeT02pvs6V8riTSUg',\n",
       " '0hqvRvO-qaSndk6iBFzBFQ',\n",
       " '3c2WpAE0d59oB0jRV4pLKw',\n",
       " 'k8-inPA0I-1aUUDaN_yU8w',\n",
       " 'nI9u5UXtlwlZUAFGrcZwbA',\n",
       " '2DiCPKgALult3nM4V57gBA',\n",
       " '9dVMTWkAL2mUaxwG04C5IA',\n",
       " 'mqWWAKuwISXlRzictom0Gw',\n",
       " '9fCO4r2m2cNSvDDxkW6MGA',\n",
       " 'nbqISLQPtrIc_N5ho5biBg',\n",
       " 'KLkhwe66_2K7ltVRdPFJBA',\n",
       " '_unKwYVvYGpO5rRW3xcCYA',\n",
       " 'n1HRh9LjfDLaxb93DRshsw',\n",
       " '1ibhUpxOALUb7c9HisHjIw',\n",
       " 'NtJTNDXwOeWjFj4zVVYCjw',\n",
       " 'KHZKqDJaxlIt0g0G4RlJxA',\n",
       " '3dxe_DDrOJC12yOafUILzw',\n",
       " 'jjBUpOKqKC3PZpbRh_WYKg',\n",
       " '6aQusMXgBqBjCIABIesVQQ',\n",
       " '3tlWv4Gn-685hCJlNgBPHQ',\n",
       " 'odwMYv254RomFAab5apjqg',\n",
       " '5_pg5TDD-xLKD6_xlsU2Ng',\n",
       " '48NftPUI5AuqEYVdUcryPQ',\n",
       " '1cXURBXL27Kn52UTcMv7tg',\n",
       " 'l8w4zIDPRj3-LIov2M-9JQ',\n",
       " '2pTKfrz8Mz1qwJ4eDJM0NQ',\n",
       " 'MMu-Z5P8DgDbJZa8zX_2Vw',\n",
       " '0SgEQqUD4h6U_NUWioKItQ',\n",
       " '3pEpx6j6WW-E-n8mms957w',\n",
       " '5zh-KE-9dXr4QgUbh-HiYg',\n",
       " 'ONJ9h1oUbCEqFob4VxFTfw',\n",
       " 'LddV-EzfnNM7VXotq5wGqw',\n",
       " 'MH07JgBB9p1KEQD_T2XatQ',\n",
       " 'MQk1iYhJdhTCtrNEShMDNw',\n",
       " '9VS6Fy2Z82wqGu9Ey5aB8w',\n",
       " '-wOgXLcm_exMm-N6fEw8fg',\n",
       " '64GF0QVBv04K8MyHln9O-w',\n",
       " 'NXCrdyFNHMbakuSr5N6UXQ',\n",
       " 'lqfFXKB6PhhSnqr5mBg03Q',\n",
       " 'okBrjWNOPvm9f7H9owuVBw',\n",
       " '4fBoIorLr3pFMU_Tp4_JHw',\n",
       " '1QWmKlcWpsj7DBdNC8nV7Q',\n",
       " 'mS6BmXS9QTSucVoWPFU4kg',\n",
       " '5V7TdipB7U2nUu6wrJh71w',\n",
       " '9e512UOXCvepXT_NLJcn8Q',\n",
       " 'mgVrwctfDL48OqY44wjq9g',\n",
       " '6HzabYbNfAtDa01SdrtD1Q',\n",
       " 'msnIdTeWEhqfcpRm26gzpQ',\n",
       " 'KbRb_b7ZTNzRsrRjtsCzog',\n",
       " 'o8VLfcFTw0B955CEqGlFIg',\n",
       " '28gWPbDKblmTTHOxbHIAVQ',\n",
       " 'N3_MrtlKkf-iSJXb_83MFQ',\n",
       " '4yODrsY9ctPzDpEZ4Cxyig',\n",
       " 'OKF9gEGnN6meO_1UvOoUKQ',\n",
       " 'n390zVcsrYw3MwYinWdaTA',\n",
       " '2RulahbqSsSl8IILdtrp3A',\n",
       " 'OjXK6kxu9CwFz-AJGNDDWg',\n",
       " 'kV3iS8PyIuB7wXXkVGprjA',\n",
       " '61gqHZFFqGJ5CJio0AwxLw',\n",
       " 'JmMy4I6nL7dQgrHQz8Z7_Q',\n",
       " 'nRF-3c5yQr_3qfsKI178ug',\n",
       " 'Mw_RS4WkZ0QET0GUovzfyg',\n",
       " '1uiogLmvg4ZZNoWKZVPluw',\n",
       " 'JpetD2hRQsWM0a9fW45GnA',\n",
       " '_MdC5gEGtcjvBme-7s0uGA',\n",
       " 'kukZH3fFTVW-nxEHcM3kog',\n",
       " '4g75P5_Y_iHoD-rYCXipaA',\n",
       " '_TM-Dvt3qRoNVaMFylBXyA',\n",
       " '1KXhhm9zToXHiUrB_pOY9Q',\n",
       " '4rEM1mawkJzdo3jONhoo_w',\n",
       " '6UkJhvcCoAPhysGmYaEHcA',\n",
       " '1AU8OK49dbmJag0K68M4Pw',\n",
       " 'mZQzty5VG9Bp0hp22n_7Ug',\n",
       " '2NmQVx3NgRxG52Blx_haCA',\n",
       " '5i_jz5O4sUuvlKkuxPTKdw',\n",
       " 'LQ4TSHyfCdioMr0aWOXbnQ',\n",
       " 'MIvNbUGuUV6RHPYuvsO8yA',\n",
       " 'mpznrv6_HcfaSYv1UISJ_Q',\n",
       " '26INfyOxHb62YCP42xeX2Q',\n",
       " '2DMScCirDUVGMxeqhbDecQ',\n",
       " 'LsQUN0rGpVZ6CLyCUtvX3g',\n",
       " 'LSAaVS4n8c5E54t-9Co2Lw',\n",
       " 'K960hI3r4bx4SX_TaR2b9A',\n",
       " '7HZTRB_nwTwLjEYjraJIZw',\n",
       " '0HigBG1m-mVt2rLcYsoHGA',\n",
       " 'mTjMuhFfdKIyk4IPaL2JsA',\n",
       " 'kmouQnsx8cdBbwAtc-j0NA',\n",
       " 'mQtHjJmdG31TCFDUIGyk5g',\n",
       " '0BRWYBsMNM0i259MIdGBlw',\n",
       " '3v9mIcXMcPidh4vwhs9zAw',\n",
       " 'jj2TLGCke8xTJCBpmTv_FQ',\n",
       " 'MZq4B7SE764QtpmozP_HVg',\n",
       " '9kT-PeGMAOeBdRWKX5PPGw',\n",
       " 'LREsWjYhiIGHhOVF0RvC2Q',\n",
       " '5KP9YonP2i9DpmXTZUrDdQ',\n",
       " '7-Be3M_lJH5XKQPVy5_haw',\n",
       " 'k8jw1N3jkHr9T5hEbY7m9A',\n",
       " '-S5eFnsJBvQJJvfoYXPyrA',\n",
       " '5ME96BaZtw0TpE3S-qltIg',\n",
       " '9KyknRtMkPl1pVxONilr0A',\n",
       " '7cTaC9ynVQW33_UuJvUsYw',\n",
       " '54cVWKadvO3Fs9hO5m0DLA',\n",
       " '5RbtCqVvFTnOPAeV4yI1og',\n",
       " '5dAxvEh-bAkLd7kNAT8sBw',\n",
       " 'N8NOiP5q-crYZUTHySGl4A',\n",
       " 'MkKlD87yC2yGilm1tZhogA',\n",
       " '7ew5BOC6BZ5yVSTD2fTONg',\n",
       " 'm-PWC8ey-v0COStTPTEW7Q',\n",
       " '-AxfyFVOx3s1XyPr8yWDWw',\n",
       " 'nXSP042ZD_poSffcPoZxAw',\n",
       " 'McnNRGO6UvxEAL2DBsrJbQ',\n",
       " '2ouFn2sP_wYk7oOSMD5LBw',\n",
       " 'OAq81h01veYwjIrJ2bG38w',\n",
       " 'KcWH7TR2hO3TnY81gvEmGA',\n",
       " 'jQv7lHbRJrECX5ptY1r-Aw',\n",
       " '_XZXfaZdUR4X6CzCziPfFA',\n",
       " '_15wZGb3QONopTo5yiZ8Rg',\n",
       " 'kMfOYixcnypCH5-fDp0fYA',\n",
       " 'nuKUjQIBPSzmyKiffmBdfA',\n",
       " 'oBbkHIx8hYjRj8cIzGL6Lg',\n",
       " 'mG_Xzl2NHtxXjDYGgKOvVQ',\n",
       " '-VK2Ns5NJoq3lO-dYUtRHA',\n",
       " 'jT5nAjajK-CzCW8RfhM2XA',\n",
       " 'jVMx9sS_eujTYPZ-CEab9A',\n",
       " '51CLHksGuuOT_igcd85oKQ',\n",
       " 'oL5TG5MsuYMaIfwzqJyCUQ',\n",
       " '0xAl-vyoCuMfMdEfD1AMfA',\n",
       " '4Aivs3JqZTkRlTVlmE0PbQ',\n",
       " 'mwckOWiGCQ7AUqFdF-10Tw',\n",
       " 'kxs68ovQq8kvzHOiLsW0kw',\n",
       " '9hSjBdysJANN9v8wuzqwoQ',\n",
       " 'Op1_d5MHsyqjnbmQo32Hfw',\n",
       " '211Mn-h7B-yZZHodrgHojg',\n",
       " 'jiGVqa89qnmo-T7tEVKb6w',\n",
       " '3FreLoiXxZsF6BnPr5skxg',\n",
       " 'OdopW30Fti5DY7VdFYchCw',\n",
       " '1L61R9ZOj3t8RV6cEiSVYA',\n",
       " '9KadsdTZsl3jBbLY8kBIFw',\n",
       " '0gzvL9PiRdV0RfBtN0jRgw',\n",
       " '_RS-CoIEPsTLXMu1OvfE0A',\n",
       " '2Y-mds280DPk9bS-_SfXVg',\n",
       " '60s6cOJaUGpNdJkFTT98ig',\n",
       " '-0JodhHzxFIIs1kp5RYN-Q',\n",
       " 'l7FF7cZ_mN_14JZVqS98QA',\n",
       " 'nB5Edh0iQ1tRzAAB3pzBQw',\n",
       " 'LI-_62Y_viO9J6d_lGGwDQ',\n",
       " 'MPeEGYF_6W4ufbTnrq4euA',\n",
       " '4ZerCkVKpdQY5C73Fn1otA',\n",
       " '71r8gdfP9lSCPF3h54neQA',\n",
       " '4gJoFow93w0duMSgPUInNw',\n",
       " '4fhQdcABwN0SpD9Lw5bQBQ',\n",
       " 'ofgx7pDrZA8BR25d_d71Qg',\n",
       " 'lsgPLj1wzSlVqz086Ov-Mw',\n",
       " 'mCS4rYFYwFWQL00W5xvPEQ',\n",
       " '1qWvsG99ubcN_aVdMnIE1A',\n",
       " 'jTEcWtqzCYFEUyhJXDD8yA',\n",
       " '7khYlXzyVEhpQZMeBbYktA',\n",
       " '4h3HDVkWRnnZzlprGsCvBg',\n",
       " '9mDvIPADbJ2g4C9Vtl_2VQ',\n",
       " '6iVNplQ9F3xOKyTwW2gHNA',\n",
       " '_Yu1jEA8xjRICta4JNLmpg',\n",
       " '7NIhMu9k0g8tTzBK49z2vg',\n",
       " 'M-nXBq2cuLu3VwIpVjuiig',\n",
       " '-P5napMHmz-HIB_QdOqdnw',\n",
       " '_8tN02g8wArjtdcu1e7Fnw',\n",
       " '9MoVe4MHyj-XK4X1CB6V6g',\n",
       " 'mGTj3r3F4jGSPiBIzeiCxQ',\n",
       " '0wIZN3Uvr1Lj-gDxaAa6Vw',\n",
       " '5qcQuzLGzOUGbV8jxQW6vw',\n",
       " '-qfhVTtCpHny2ttc4XkcKw',\n",
       " 'jswdzyi6A_aKBfiHES1WSg',\n",
       " '-8Ps33v2xS4CI26TfzpGpQ',\n",
       " '7StR5FVcMXixxhMSKZ3IKg',\n",
       " 'krrMjjW8phtUOMznN-K8zg',\n",
       " '_Knt5qzWn8Ch_xkgp5DVYg',\n",
       " 'Lnfo687qPmVXE5p3YoKr-w',\n",
       " 'O-6fsHadeo3QpulCQBiS1Q',\n",
       " '6r7QVDW2y3gicmiIszBGoA',\n",
       " '5d_84Gxsm-v80vm8TfNSLQ',\n",
       " 'MjDdiouuIHcUQ8kd-o3J1w',\n",
       " 'Lg4v_FqXB_x3OLRUM4gujg',\n",
       " '0xdP0HX_LhbQJKVLio8Eig',\n",
       " 'JOGAhKz5uHDThI2UhAfytQ',\n",
       " '9OKCTNV1_9q8Rhcs_XFKnA',\n",
       " '-K5pQYfh6cXrKUlw59i54Q',\n",
       " 'LIAvw_QR9yle_3H135Ja0A',\n",
       " '0FrbrDZOQK4-cTY-mOPckg',\n",
       " '1s9Q_w_mt6wnxHwYxIT2zw',\n",
       " '4NN2oi65gb4ysYfEoRdtSw',\n",
       " '4BnN7lXnOoNsDit_fD-x2A',\n",
       " '7wWWJcUt_9NEA7M9zl8XKw',\n",
       " 'ntBF1MuczNtxvMxFFD8u9Q',\n",
       " 'LJ2lids73hP9bijSoqUF1Q',\n",
       " 'jiZjpb0P3Zyyo1GovOxRbA',\n",
       " 'OLxxhf_IflTE06NGdjcyIg',\n",
       " '4Zrm3BZUnE1mIVeru6KzeQ',\n",
       " 'JW7Mj9SABomGtfmvrDkocA',\n",
       " 'KoQqXcGIDfnJq6aSCJ27BQ',\n",
       " 'lyWUR3WNAWzXdVCGj9b9KQ',\n",
       " '0rLEB-1wpK9CfruUJEnElg',\n",
       " 'mqSYtj1QhsnRC0tYiE5lDQ',\n",
       " '31HuztW4yT5zJzj0GAkufA',\n",
       " '_OoTrJ2hglt6xSLEr9GT5g',\n",
       " 'kAfnQIYFPR6xQuTvjAhouA',\n",
       " '7xk6rixNLfy82MDIBnnGGw',\n",
       " 'NLPwAr-UOQ4r7V3on0g69A',\n",
       " '6jspy5ANds36cbiv5HXCZg',\n",
       " '9lJg4QOfM9FC5c5EjWWSOQ',\n",
       " 'MY_THNvzUv_u1otr7xTIgg',\n",
       " '7DgiPahl1hHPrMqqvg-w4Q',\n",
       " '6gaLeLdbz24YrweZFojMlA',\n",
       " '41QmZpg4Wr-u8JGOkEg57w',\n",
       " '-HtIea_zR8rFR0k2PqOQPg',\n",
       " 'mQBybwcVKq8rh94q059csA',\n",
       " '0YsGgoecQ4-xv4d3hIaX-Q',\n",
       " '7N_7QmfQZOjs-QcnJdBdNg',\n",
       " 'nd0fTe86dIzViNRSwyXvWg',\n",
       " '4ga70zfSxZvtGeHPj2JrqQ',\n",
       " 'L1CyyuGx_-v_VEL2qmnq9w',\n",
       " '6LI9dV5kPAPpuw1d0xsu0g',\n",
       " '5wXVIp3ruQvbcJ0RqEJ9Aw',\n",
       " '3ieaH020rh3SlG2kkrMvDQ',\n",
       " 'nta1zZuaXXV5tXpXnIDwzA',\n",
       " '41KVHEvbue_uChJjb_xpcg',\n",
       " 'n7frh-HYBIjyQsEFLCPPKQ',\n",
       " 'oLNRcllOvVeS7gb1K5ZYKw',\n",
       " '3n7s-bEctjTzoS0_o5RRQQ',\n",
       " 'o4VlQR8YT_El04HLo6uIDA',\n",
       " 'l2P3wYw_3IXlZUtann6SZQ',\n",
       " 'kVt5pmJMZZL5hyNlPiEKYQ',\n",
       " '4HV-T_q-GTTFWHZ9EIKYBA',\n",
       " '_8B40xRtabQop1QXbpGTtA',\n",
       " 'mcYSw7M4JF5DGjgFwZEfGA',\n",
       " 'OECoKohttuuqEP_d3UWePw',\n",
       " 'kvV-rLlvpaQTMwEsI5UMog',\n",
       " '9U7iUberDG0J_QwQ7bFEMQ',\n",
       " '3QOtVFuy8rE8fG2bRwmOgw',\n",
       " 'Jxi-uSP9L7zGH-h9OMD4hg',\n",
       " 'oNrnjsjioCXh2g_g8maNnw',\n",
       " '6wUQ6PpzgISQYuok3WxMxA',\n",
       " '7kSbz00Lvw-4e8hGcimdBw',\n",
       " 'KoL_tDHFD9G-NlW9M5DjpQ',\n",
       " '1Dnb4GFIPbx-MrbO5-syyg',\n",
       " 'NP252-PKN49BVVM449CQ7Q',\n",
       " '5aouyg2O_ieDOW0c7g-WTA',\n",
       " 'LK1HbJS0P4_6WolTSS3sbQ',\n",
       " '2YguKo256cgRB80AX0-9hg',\n",
       " 'NWTnImwich2GUOSVKxkb5g',\n",
       " 'nMRUqeiXZFfBi8SdZvDcqQ',\n",
       " '4Lg01nYWXmsR6DNVsPYdUw',\n",
       " 'LWb40HDACgv9oeHN9H2rEQ',\n",
       " 'Mf8Yoosm3buTHCiSxQqA2Q',\n",
       " '58z1l761Md064HW0uQvX6A',\n",
       " 'NSthE_GhyCwpid5iEWIRqQ',\n",
       " '60Lplu6du9OBx66BZ1GcrA',\n",
       " '27H-FJTwH_QJFqVUEcGXzg',\n",
       " '9GL4E0qy0V1inKr0jM5kCQ',\n",
       " '_dTtSw6ApSU5Pc8kMPsaMA',\n",
       " '9Z0eUcLGxZUHIl6rak5Qbw',\n",
       " '0DQOFT7quDqKc7O1ZHCUCA',\n",
       " 'jW7OiXN48JqWM3gpsQb9qg',\n",
       " 'Kgw42uzl1TqjwDkEd8wAjQ',\n",
       " 'KS2x_8ZB4AeIoObLshghIA',\n",
       " 'Md_oXieDzElCk5FYTMbY4Q',\n",
       " '3d0VmUbd6b_BmZbmMxqIPQ',\n",
       " '4pvoBvbAfMqCyCV6u3aHSw',\n",
       " 'Kbhg-39i3-MN2kl9u-C6_A',\n",
       " '1OqTY7M0DMSm01wTPmH1_w',\n",
       " 'K7xO6keNK2BZ_2oWxgSmTQ',\n",
       " '6cwkvzMs7e8zJxt8X7oKUA',\n",
       " 'M20P-Bi-8w0cVEYONroX2w',\n",
       " '5ydQWhbObFBgJFKjInSxzw',\n",
       " 'O6OjCGNqAASEaQH8SAfyog',\n",
       " 'jpdk1HFgaEVaR6k1a5SmUA',\n",
       " '59URqEZFO3CasnUMTRUq-A',\n",
       " '-xhFmn8bkchmdqhaoYPGCw',\n",
       " 'oGPDl1RMgeb4mnEbULZERw',\n",
       " '3sJSaNlbJyHiEWJEENVB5A',\n",
       " 'JIFK0iCjqkNdG_zrAvbrGw',\n",
       " 'LG7sAIy51Sevf4ZxmuS22A',\n",
       " '9L4L8H5C5ZObWi187hDy_Q',\n",
       " '_a1d3bupKZ0bzKyUAUmh9w',\n",
       " 'KwW2CmTvEfof7g5RtfApQQ',\n",
       " '7JPBDNXCpxatWvC5vtIANg']"
      ]
     },
     "execution_count": 36,
     "metadata": {},
     "output_type": "execute_result"
    }
   ],
   "source": [
    "filenames"
   ]
  },
  {
   "cell_type": "code",
   "execution_count": 128,
   "metadata": {},
   "outputs": [
    {
     "ename": "KeyboardInterrupt",
     "evalue": "",
     "output_type": "error",
     "traceback": [
      "\u001b[0;31m---------------------------------------------------------------------------\u001b[0m",
      "\u001b[0;31mKeyboardInterrupt\u001b[0m                         Traceback (most recent call last)",
      "\u001b[0;32m<ipython-input-128-ee5304780918>\u001b[0m in \u001b[0;36m<module>\u001b[0;34m()\u001b[0m\n\u001b[1;32m      9\u001b[0m         \u001b[0mimg_data\u001b[0m \u001b[0;34m=\u001b[0m \u001b[0mpreprocess_input\u001b[0m\u001b[0;34m(\u001b[0m\u001b[0mimg_data\u001b[0m\u001b[0;34m)\u001b[0m\u001b[0;34m\u001b[0m\u001b[0m\n\u001b[1;32m     10\u001b[0m \u001b[0;34m\u001b[0m\u001b[0m\n\u001b[0;32m---> 11\u001b[0;31m         \u001b[0mvgg16_feature\u001b[0m \u001b[0;34m=\u001b[0m \u001b[0mmodel\u001b[0m\u001b[0;34m.\u001b[0m\u001b[0mpredict\u001b[0m\u001b[0;34m(\u001b[0m\u001b[0mimg_data\u001b[0m\u001b[0;34m)\u001b[0m\u001b[0;34m\u001b[0m\u001b[0m\n\u001b[0m\u001b[1;32m     12\u001b[0m         \u001b[0mvgg16_feature_np\u001b[0m \u001b[0;34m=\u001b[0m \u001b[0mnp\u001b[0m\u001b[0;34m.\u001b[0m\u001b[0marray\u001b[0m\u001b[0;34m(\u001b[0m\u001b[0mvgg16_feature\u001b[0m\u001b[0;34m)\u001b[0m\u001b[0;34m\u001b[0m\u001b[0m\n\u001b[1;32m     13\u001b[0m         \u001b[0mvgg16_feature_list\u001b[0m\u001b[0;34m.\u001b[0m\u001b[0mappend\u001b[0m\u001b[0;34m(\u001b[0m\u001b[0mvgg16_feature_np\u001b[0m\u001b[0;34m.\u001b[0m\u001b[0mflatten\u001b[0m\u001b[0;34m(\u001b[0m\u001b[0;34m)\u001b[0m\u001b[0;34m)\u001b[0m\u001b[0;34m\u001b[0m\u001b[0m\n",
      "\u001b[0;32m~/anaconda2/envs/py36/lib/python3.6/site-packages/keras/engine/training.py\u001b[0m in \u001b[0;36mpredict\u001b[0;34m(self, x, batch_size, verbose, steps)\u001b[0m\n\u001b[1;32m   1167\u001b[0m                                             \u001b[0mbatch_size\u001b[0m\u001b[0;34m=\u001b[0m\u001b[0mbatch_size\u001b[0m\u001b[0;34m,\u001b[0m\u001b[0;34m\u001b[0m\u001b[0m\n\u001b[1;32m   1168\u001b[0m                                             \u001b[0mverbose\u001b[0m\u001b[0;34m=\u001b[0m\u001b[0mverbose\u001b[0m\u001b[0;34m,\u001b[0m\u001b[0;34m\u001b[0m\u001b[0m\n\u001b[0;32m-> 1169\u001b[0;31m                                             steps=steps)\n\u001b[0m\u001b[1;32m   1170\u001b[0m \u001b[0;34m\u001b[0m\u001b[0m\n\u001b[1;32m   1171\u001b[0m     def train_on_batch(self, x, y,\n",
      "\u001b[0;32m~/anaconda2/envs/py36/lib/python3.6/site-packages/keras/engine/training_arrays.py\u001b[0m in \u001b[0;36mpredict_loop\u001b[0;34m(model, f, ins, batch_size, verbose, steps)\u001b[0m\n\u001b[1;32m    292\u001b[0m                 \u001b[0mins_batch\u001b[0m\u001b[0;34m[\u001b[0m\u001b[0mi\u001b[0m\u001b[0;34m]\u001b[0m \u001b[0;34m=\u001b[0m \u001b[0mins_batch\u001b[0m\u001b[0;34m[\u001b[0m\u001b[0mi\u001b[0m\u001b[0;34m]\u001b[0m\u001b[0;34m.\u001b[0m\u001b[0mtoarray\u001b[0m\u001b[0;34m(\u001b[0m\u001b[0;34m)\u001b[0m\u001b[0;34m\u001b[0m\u001b[0m\n\u001b[1;32m    293\u001b[0m \u001b[0;34m\u001b[0m\u001b[0m\n\u001b[0;32m--> 294\u001b[0;31m             \u001b[0mbatch_outs\u001b[0m \u001b[0;34m=\u001b[0m \u001b[0mf\u001b[0m\u001b[0;34m(\u001b[0m\u001b[0mins_batch\u001b[0m\u001b[0;34m)\u001b[0m\u001b[0;34m\u001b[0m\u001b[0m\n\u001b[0m\u001b[1;32m    295\u001b[0m             \u001b[0mbatch_outs\u001b[0m \u001b[0;34m=\u001b[0m \u001b[0mto_list\u001b[0m\u001b[0;34m(\u001b[0m\u001b[0mbatch_outs\u001b[0m\u001b[0;34m)\u001b[0m\u001b[0;34m\u001b[0m\u001b[0m\n\u001b[1;32m    296\u001b[0m             \u001b[0;32mif\u001b[0m \u001b[0mbatch_index\u001b[0m \u001b[0;34m==\u001b[0m \u001b[0;36m0\u001b[0m\u001b[0;34m:\u001b[0m\u001b[0;34m\u001b[0m\u001b[0m\n",
      "\u001b[0;32m~/anaconda2/envs/py36/lib/python3.6/site-packages/keras/backend/tensorflow_backend.py\u001b[0m in \u001b[0;36m__call__\u001b[0;34m(self, inputs)\u001b[0m\n\u001b[1;32m   2713\u001b[0m                 \u001b[0;32mreturn\u001b[0m \u001b[0mself\u001b[0m\u001b[0;34m.\u001b[0m\u001b[0m_legacy_call\u001b[0m\u001b[0;34m(\u001b[0m\u001b[0minputs\u001b[0m\u001b[0;34m)\u001b[0m\u001b[0;34m\u001b[0m\u001b[0m\n\u001b[1;32m   2714\u001b[0m \u001b[0;34m\u001b[0m\u001b[0m\n\u001b[0;32m-> 2715\u001b[0;31m             \u001b[0;32mreturn\u001b[0m \u001b[0mself\u001b[0m\u001b[0;34m.\u001b[0m\u001b[0m_call\u001b[0m\u001b[0;34m(\u001b[0m\u001b[0minputs\u001b[0m\u001b[0;34m)\u001b[0m\u001b[0;34m\u001b[0m\u001b[0m\n\u001b[0m\u001b[1;32m   2716\u001b[0m         \u001b[0;32melse\u001b[0m\u001b[0;34m:\u001b[0m\u001b[0;34m\u001b[0m\u001b[0m\n\u001b[1;32m   2717\u001b[0m             \u001b[0;32mif\u001b[0m \u001b[0mpy_any\u001b[0m\u001b[0;34m(\u001b[0m\u001b[0mis_tensor\u001b[0m\u001b[0;34m(\u001b[0m\u001b[0mx\u001b[0m\u001b[0;34m)\u001b[0m \u001b[0;32mfor\u001b[0m \u001b[0mx\u001b[0m \u001b[0;32min\u001b[0m \u001b[0minputs\u001b[0m\u001b[0;34m)\u001b[0m\u001b[0;34m:\u001b[0m\u001b[0;34m\u001b[0m\u001b[0m\n",
      "\u001b[0;32m~/anaconda2/envs/py36/lib/python3.6/site-packages/keras/backend/tensorflow_backend.py\u001b[0m in \u001b[0;36m_call\u001b[0;34m(self, inputs)\u001b[0m\n\u001b[1;32m   2673\u001b[0m             \u001b[0mfetched\u001b[0m \u001b[0;34m=\u001b[0m \u001b[0mself\u001b[0m\u001b[0;34m.\u001b[0m\u001b[0m_callable_fn\u001b[0m\u001b[0;34m(\u001b[0m\u001b[0;34m*\u001b[0m\u001b[0marray_vals\u001b[0m\u001b[0;34m,\u001b[0m \u001b[0mrun_metadata\u001b[0m\u001b[0;34m=\u001b[0m\u001b[0mself\u001b[0m\u001b[0;34m.\u001b[0m\u001b[0mrun_metadata\u001b[0m\u001b[0;34m)\u001b[0m\u001b[0;34m\u001b[0m\u001b[0m\n\u001b[1;32m   2674\u001b[0m         \u001b[0;32melse\u001b[0m\u001b[0;34m:\u001b[0m\u001b[0;34m\u001b[0m\u001b[0m\n\u001b[0;32m-> 2675\u001b[0;31m             \u001b[0mfetched\u001b[0m \u001b[0;34m=\u001b[0m \u001b[0mself\u001b[0m\u001b[0;34m.\u001b[0m\u001b[0m_callable_fn\u001b[0m\u001b[0;34m(\u001b[0m\u001b[0;34m*\u001b[0m\u001b[0marray_vals\u001b[0m\u001b[0;34m)\u001b[0m\u001b[0;34m\u001b[0m\u001b[0m\n\u001b[0m\u001b[1;32m   2676\u001b[0m         \u001b[0;32mreturn\u001b[0m \u001b[0mfetched\u001b[0m\u001b[0;34m[\u001b[0m\u001b[0;34m:\u001b[0m\u001b[0mlen\u001b[0m\u001b[0;34m(\u001b[0m\u001b[0mself\u001b[0m\u001b[0;34m.\u001b[0m\u001b[0moutputs\u001b[0m\u001b[0;34m)\u001b[0m\u001b[0;34m]\u001b[0m\u001b[0;34m\u001b[0m\u001b[0m\n\u001b[1;32m   2677\u001b[0m \u001b[0;34m\u001b[0m\u001b[0m\n",
      "\u001b[0;32m~/anaconda2/envs/py36/lib/python3.6/site-packages/tensorflow/python/client/session.py\u001b[0m in \u001b[0;36m__call__\u001b[0;34m(self, *args, **kwargs)\u001b[0m\n\u001b[1;32m   1397\u001b[0m           ret = tf_session.TF_SessionRunCallable(\n\u001b[1;32m   1398\u001b[0m               \u001b[0mself\u001b[0m\u001b[0;34m.\u001b[0m\u001b[0m_session\u001b[0m\u001b[0;34m.\u001b[0m\u001b[0m_session\u001b[0m\u001b[0;34m,\u001b[0m \u001b[0mself\u001b[0m\u001b[0;34m.\u001b[0m\u001b[0m_handle\u001b[0m\u001b[0;34m,\u001b[0m \u001b[0margs\u001b[0m\u001b[0;34m,\u001b[0m \u001b[0mstatus\u001b[0m\u001b[0;34m,\u001b[0m\u001b[0;34m\u001b[0m\u001b[0m\n\u001b[0;32m-> 1399\u001b[0;31m               run_metadata_ptr)\n\u001b[0m\u001b[1;32m   1400\u001b[0m         \u001b[0;32mif\u001b[0m \u001b[0mrun_metadata\u001b[0m\u001b[0;34m:\u001b[0m\u001b[0;34m\u001b[0m\u001b[0m\n\u001b[1;32m   1401\u001b[0m           \u001b[0mproto_data\u001b[0m \u001b[0;34m=\u001b[0m \u001b[0mtf_session\u001b[0m\u001b[0;34m.\u001b[0m\u001b[0mTF_GetBuffer\u001b[0m\u001b[0;34m(\u001b[0m\u001b[0mrun_metadata_ptr\u001b[0m\u001b[0;34m)\u001b[0m\u001b[0;34m\u001b[0m\u001b[0m\n",
      "\u001b[0;31mKeyboardInterrupt\u001b[0m: "
     ]
    }
   ],
   "source": [
    "vgg16_feature_list = []\n",
    "subdir = \"labelledYelp/\"\n",
    "for img_path in gl:        # process the files under the directory 'dogs' or 'cats'\n",
    "        # ...\n",
    "\n",
    "        img = image.load_img(img_path, target_size=(224, 224))\n",
    "        img_data = image.img_to_array(img)\n",
    "        img_data = np.expand_dims(img_data, axis=0)\n",
    "        img_data = preprocess_input(img_data)\n",
    "\n",
    "        vgg16_feature = model.predict(img_data)\n",
    "        vgg16_feature_np = np.array(vgg16_feature)\n",
    "        vgg16_feature_list.append(vgg16_feature_np.flatten())\n",
    "        \n",
    "vgg16_feature_list_np = np.array(vgg16_feature_list)\n",
    "# kmeans = KMeans(n_clusters=2, random_state=0).fit(vgg16_feature_list_np)\n"
   ]
  },
  {
   "cell_type": "code",
   "execution_count": 18,
   "metadata": {},
   "outputs": [
    {
     "data": {
      "text/plain": [
       "(483, 25088)"
      ]
     },
     "execution_count": 18,
     "metadata": {},
     "output_type": "execute_result"
    }
   ],
   "source": [
    "vgg16_feature_list_np.shape\n"
   ]
  },
  {
   "cell_type": "code",
   "execution_count": 20,
   "metadata": {},
   "outputs": [],
   "source": [
    "import pandas as pd"
   ]
  },
  {
   "cell_type": "code",
   "execution_count": 21,
   "metadata": {},
   "outputs": [],
   "source": [
    "df = pd.read_csv(\"../join.csv\")"
   ]
  },
  {
   "cell_type": "code",
   "execution_count": 22,
   "metadata": {},
   "outputs": [
    {
     "data": {
      "text/plain": [
       "['Unnamed: 0',\n",
       " 'photoId',\n",
       " 'value',\n",
       " 'business_id',\n",
       " 'caption',\n",
       " 'label',\n",
       " 'good1',\n",
       " 'I/Ni',\n",
       " 'NewGood',\n",
       " 'good',\n",
       " 'useful',\n",
       " 'Unnamed: 10',\n",
       " 'photoIdOrig']"
      ]
     },
     "execution_count": 22,
     "metadata": {},
     "output_type": "execute_result"
    }
   ],
   "source": [
    "list(df)"
   ]
  },
  {
   "cell_type": "code",
   "execution_count": 45,
   "metadata": {},
   "outputs": [
    {
     "data": {
      "text/plain": [
       "Unnamed: 0       int64\n",
       "photoId         object\n",
       "value          float64\n",
       "business_id     object\n",
       "caption         object\n",
       "label           object\n",
       "good1           object\n",
       "I/Ni           float64\n",
       "NewGood        float64\n",
       "good           float64\n",
       "useful         float64\n",
       "Unnamed: 10     object\n",
       "photoIdOrig     object\n",
       "dtype: object"
      ]
     },
     "execution_count": 45,
     "metadata": {},
     "output_type": "execute_result"
    }
   ],
   "source": [
    "df.dtypes"
   ]
  },
  {
   "cell_type": "code",
   "execution_count": 85,
   "metadata": {},
   "outputs": [],
   "source": [
    "scores = []\n",
    "labels = []\n",
    "for file in filenames:\n",
    "    f = df.loc[df['photoIdOrig'] == file]\n",
    "    scores.append(df.loc[df['photoIdOrig'] == file].value.item())\n",
    "#     if((f['good']+f['useful']) == 2.0):\n",
    "#         label = 1\n",
    "#     else:\n",
    "#         label = 0\n",
    "\n",
    "#     sum = f['good']+f['useful']\n",
    "    x = f['good']\n",
    "    y = f['useful']\n",
    "    label = None\n",
    "    if(np.logical_and(x, y).bool()):\n",
    "        label = 1\n",
    "    else:\n",
    "        label = 0\n",
    "    labels.append(label)\n",
    "     "
   ]
  },
  {
   "cell_type": "code",
   "execution_count": 104,
   "metadata": {},
   "outputs": [
    {
     "data": {
      "text/plain": [
       "[1,\n",
       " 1,\n",
       " 1,\n",
       " 0,\n",
       " 1,\n",
       " 1,\n",
       " 0,\n",
       " 0,\n",
       " 1,\n",
       " 0,\n",
       " 1,\n",
       " 0,\n",
       " 0,\n",
       " 0,\n",
       " 0,\n",
       " 1,\n",
       " 0,\n",
       " 0,\n",
       " 1,\n",
       " 1,\n",
       " 0,\n",
       " 1,\n",
       " 0,\n",
       " 1,\n",
       " 0,\n",
       " 1,\n",
       " 0,\n",
       " 1,\n",
       " 1,\n",
       " 1,\n",
       " 1,\n",
       " 0,\n",
       " 1,\n",
       " 1,\n",
       " 1,\n",
       " 1,\n",
       " 0,\n",
       " 1,\n",
       " 0,\n",
       " 1,\n",
       " 0,\n",
       " 1,\n",
       " 0,\n",
       " 1,\n",
       " 1,\n",
       " 1,\n",
       " 1,\n",
       " 1,\n",
       " 1,\n",
       " 1,\n",
       " 1,\n",
       " 0,\n",
       " 1,\n",
       " 0,\n",
       " 1,\n",
       " 1,\n",
       " 0,\n",
       " 1,\n",
       " 1,\n",
       " 0,\n",
       " 1,\n",
       " 1,\n",
       " 0,\n",
       " 1,\n",
       " 0,\n",
       " 0,\n",
       " 0,\n",
       " 1,\n",
       " 1,\n",
       " 1,\n",
       " 1,\n",
       " 1,\n",
       " 0,\n",
       " 1,\n",
       " 0,\n",
       " 1,\n",
       " 1,\n",
       " 1,\n",
       " 1,\n",
       " 1,\n",
       " 1,\n",
       " 1,\n",
       " 1,\n",
       " 1,\n",
       " 0,\n",
       " 1,\n",
       " 0,\n",
       " 1,\n",
       " 1,\n",
       " 1,\n",
       " 1,\n",
       " 1,\n",
       " 1,\n",
       " 1,\n",
       " 1,\n",
       " 1,\n",
       " 1,\n",
       " 1,\n",
       " 1,\n",
       " 1,\n",
       " 1,\n",
       " 0,\n",
       " 0,\n",
       " 0,\n",
       " 1,\n",
       " 1,\n",
       " 1,\n",
       " 0,\n",
       " 0,\n",
       " 0,\n",
       " 0,\n",
       " 0,\n",
       " 1,\n",
       " 0,\n",
       " 0,\n",
       " 1,\n",
       " 1,\n",
       " 1,\n",
       " 1,\n",
       " 0,\n",
       " 0,\n",
       " 1,\n",
       " 0,\n",
       " 1,\n",
       " 1,\n",
       " 1,\n",
       " 1,\n",
       " 1,\n",
       " 1,\n",
       " 1,\n",
       " 0,\n",
       " 1,\n",
       " 1,\n",
       " 0,\n",
       " 1,\n",
       " 1,\n",
       " 1,\n",
       " 1,\n",
       " 0,\n",
       " 0,\n",
       " 1,\n",
       " 1,\n",
       " 1,\n",
       " 0,\n",
       " 0,\n",
       " 0,\n",
       " 0,\n",
       " 1,\n",
       " 1,\n",
       " 1,\n",
       " 1,\n",
       " 1,\n",
       " 1,\n",
       " 1,\n",
       " 1,\n",
       " 0,\n",
       " 0,\n",
       " 1,\n",
       " 1,\n",
       " 1,\n",
       " 1,\n",
       " 1,\n",
       " 0,\n",
       " 1,\n",
       " 1,\n",
       " 1,\n",
       " 1,\n",
       " 0,\n",
       " 1,\n",
       " 1,\n",
       " 1,\n",
       " 0,\n",
       " 1,\n",
       " 1,\n",
       " 1,\n",
       " 1,\n",
       " 1,\n",
       " 1,\n",
       " 1,\n",
       " 0,\n",
       " 1,\n",
       " 1,\n",
       " 1,\n",
       " 0,\n",
       " 0,\n",
       " 1,\n",
       " 1,\n",
       " 0,\n",
       " 0,\n",
       " 1,\n",
       " 0,\n",
       " 0,\n",
       " 0,\n",
       " 1,\n",
       " 1,\n",
       " 0,\n",
       " 1,\n",
       " 1,\n",
       " 1,\n",
       " 0,\n",
       " 1,\n",
       " 1,\n",
       " 1,\n",
       " 0,\n",
       " 1,\n",
       " 0,\n",
       " 1,\n",
       " 0,\n",
       " 1,\n",
       " 0,\n",
       " 1,\n",
       " 1,\n",
       " 0,\n",
       " 1,\n",
       " 1,\n",
       " 0,\n",
       " 1,\n",
       " 1,\n",
       " 1,\n",
       " 0,\n",
       " 0,\n",
       " 0,\n",
       " 1,\n",
       " 1,\n",
       " 1,\n",
       " 0,\n",
       " 1,\n",
       " 0,\n",
       " 1,\n",
       " 1,\n",
       " 1,\n",
       " 0,\n",
       " 1,\n",
       " 1,\n",
       " 1,\n",
       " 1,\n",
       " 1,\n",
       " 1,\n",
       " 1,\n",
       " 1,\n",
       " 1,\n",
       " 1,\n",
       " 0,\n",
       " 1,\n",
       " 1,\n",
       " 0,\n",
       " 0,\n",
       " 1,\n",
       " 0,\n",
       " 1,\n",
       " 1,\n",
       " 0,\n",
       " 1,\n",
       " 1,\n",
       " 1,\n",
       " 1,\n",
       " 1,\n",
       " 1,\n",
       " 0,\n",
       " 1,\n",
       " 0,\n",
       " 1,\n",
       " 0,\n",
       " 1,\n",
       " 0,\n",
       " 1,\n",
       " 1,\n",
       " 0,\n",
       " 1,\n",
       " 0,\n",
       " 1,\n",
       " 0,\n",
       " 1,\n",
       " 1,\n",
       " 0,\n",
       " 1,\n",
       " 1,\n",
       " 1,\n",
       " 0,\n",
       " 0,\n",
       " 1,\n",
       " 1,\n",
       " 1,\n",
       " 1,\n",
       " 1,\n",
       " 1,\n",
       " 0,\n",
       " 1,\n",
       " 1,\n",
       " 1,\n",
       " 1,\n",
       " 1,\n",
       " 0,\n",
       " 1,\n",
       " 1,\n",
       " 1,\n",
       " 1,\n",
       " 1,\n",
       " 0,\n",
       " 1,\n",
       " 1,\n",
       " 0,\n",
       " 1,\n",
       " 0,\n",
       " 1,\n",
       " 1,\n",
       " 1,\n",
       " 1,\n",
       " 0,\n",
       " 1,\n",
       " 1,\n",
       " 1,\n",
       " 0,\n",
       " 1,\n",
       " 0,\n",
       " 1,\n",
       " 1,\n",
       " 0,\n",
       " 1,\n",
       " 1,\n",
       " 0,\n",
       " 1,\n",
       " 1,\n",
       " 1,\n",
       " 0,\n",
       " 1,\n",
       " 1,\n",
       " 1,\n",
       " 0,\n",
       " 1,\n",
       " 0,\n",
       " 0,\n",
       " 1,\n",
       " 1,\n",
       " 1,\n",
       " 0,\n",
       " 0,\n",
       " 1,\n",
       " 1,\n",
       " 1,\n",
       " 1,\n",
       " 1,\n",
       " 1,\n",
       " 1,\n",
       " 1,\n",
       " 1,\n",
       " 1,\n",
       " 0,\n",
       " 1,\n",
       " 0,\n",
       " 0,\n",
       " 1,\n",
       " 1,\n",
       " 1,\n",
       " 0,\n",
       " 1,\n",
       " 1,\n",
       " 1,\n",
       " 1,\n",
       " 0,\n",
       " 1,\n",
       " 1,\n",
       " 1,\n",
       " 0,\n",
       " 0,\n",
       " 1,\n",
       " 1,\n",
       " 1,\n",
       " 0,\n",
       " 1,\n",
       " 1,\n",
       " 1,\n",
       " 1,\n",
       " 1,\n",
       " 1,\n",
       " 1,\n",
       " 1,\n",
       " 1,\n",
       " 1,\n",
       " 1,\n",
       " 0,\n",
       " 1,\n",
       " 1,\n",
       " 1,\n",
       " 1,\n",
       " 1,\n",
       " 1,\n",
       " 0,\n",
       " 1,\n",
       " 1,\n",
       " 1,\n",
       " 0,\n",
       " 1,\n",
       " 1,\n",
       " 1,\n",
       " 1,\n",
       " 1,\n",
       " 0,\n",
       " 0,\n",
       " 0,\n",
       " 0,\n",
       " 1,\n",
       " 0,\n",
       " 1,\n",
       " 0,\n",
       " 1,\n",
       " 1,\n",
       " 1,\n",
       " 1,\n",
       " 0,\n",
       " 1,\n",
       " 0,\n",
       " 1,\n",
       " 0,\n",
       " 1,\n",
       " 1,\n",
       " 0,\n",
       " 1,\n",
       " 1,\n",
       " 1,\n",
       " 1,\n",
       " 1,\n",
       " 0,\n",
       " 1,\n",
       " 0,\n",
       " 0,\n",
       " 1,\n",
       " 1,\n",
       " 1,\n",
       " 1,\n",
       " 1,\n",
       " 1,\n",
       " 1,\n",
       " 0,\n",
       " 1,\n",
       " 1,\n",
       " 0,\n",
       " 1,\n",
       " 1,\n",
       " 0,\n",
       " 1,\n",
       " 0,\n",
       " 1,\n",
       " 1,\n",
       " 0,\n",
       " 0,\n",
       " 1,\n",
       " 0,\n",
       " 0,\n",
       " 1,\n",
       " 1,\n",
       " 1,\n",
       " 1,\n",
       " 1,\n",
       " 1,\n",
       " 1,\n",
       " 1,\n",
       " 0,\n",
       " 0,\n",
       " 0,\n",
       " 1,\n",
       " 1,\n",
       " 1,\n",
       " 0,\n",
       " 0,\n",
       " 0,\n",
       " 0,\n",
       " 1,\n",
       " 1,\n",
       " 1,\n",
       " 1,\n",
       " 0,\n",
       " 0,\n",
       " 0,\n",
       " 1,\n",
       " 1,\n",
       " 0,\n",
       " 1,\n",
       " 1,\n",
       " 0,\n",
       " 0,\n",
       " 1,\n",
       " 0]"
      ]
     },
     "execution_count": 104,
     "metadata": {},
     "output_type": "execute_result"
    }
   ],
   "source": [
    "labels"
   ]
  },
  {
   "cell_type": "code",
   "execution_count": 40,
   "metadata": {},
   "outputs": [
    {
     "data": {
      "text/plain": [
       "483"
      ]
     },
     "execution_count": 40,
     "metadata": {},
     "output_type": "execute_result"
    }
   ],
   "source": [
    "len(scores)"
   ]
  },
  {
   "cell_type": "code",
   "execution_count": 87,
   "metadata": {},
   "outputs": [
    {
     "data": {
      "text/plain": [
       "4.85133"
      ]
     },
     "execution_count": 87,
     "metadata": {},
     "output_type": "execute_result"
    }
   ],
   "source": [
    "scores[0]"
   ]
  },
  {
   "cell_type": "code",
   "execution_count": 105,
   "metadata": {},
   "outputs": [],
   "source": [
    "scores = np.array(scores)\n",
    "labels = np.array(labels)"
   ]
  },
  {
   "cell_type": "code",
   "execution_count": 108,
   "metadata": {},
   "outputs": [
    {
     "data": {
      "text/plain": [
       "(483,)"
      ]
     },
     "execution_count": 108,
     "metadata": {},
     "output_type": "execute_result"
    }
   ],
   "source": [
    "labels.shape"
   ]
  },
  {
   "cell_type": "code",
   "execution_count": 109,
   "metadata": {},
   "outputs": [
    {
     "data": {
      "text/plain": [
       "(483, 25088)"
      ]
     },
     "execution_count": 109,
     "metadata": {},
     "output_type": "execute_result"
    }
   ],
   "source": [
    "vgg16_feature_list_np.shape"
   ]
  },
  {
   "cell_type": "code",
   "execution_count": 115,
   "metadata": {},
   "outputs": [],
   "source": [
    "# all_data = np.append(vgg16_feature_list_np, scores, axis = 1)\n",
    "all_data = np.column_stack([vgg16_feature_list_np,scores])\n"
   ]
  },
  {
   "cell_type": "code",
   "execution_count": 116,
   "metadata": {},
   "outputs": [
    {
     "data": {
      "text/plain": [
       "(483, 25089)"
      ]
     },
     "execution_count": 116,
     "metadata": {},
     "output_type": "execute_result"
    }
   ],
   "source": [
    "all_data.shape"
   ]
  },
  {
   "cell_type": "code",
   "execution_count": 112,
   "metadata": {},
   "outputs": [],
   "source": [
    "# all_data = np.column_stack([all_data,labels])\n"
   ]
  },
  {
   "cell_type": "code",
   "execution_count": 113,
   "metadata": {},
   "outputs": [
    {
     "data": {
      "text/plain": [
       "(483, 25090)"
      ]
     },
     "execution_count": 113,
     "metadata": {},
     "output_type": "execute_result"
    }
   ],
   "source": [
    "# all_data.shape"
   ]
  },
  {
   "cell_type": "code",
   "execution_count": 114,
   "metadata": {},
   "outputs": [],
   "source": [
    "from sklearn.svm import SVC"
   ]
  },
  {
   "cell_type": "code",
   "execution_count": 117,
   "metadata": {},
   "outputs": [],
   "source": [
    "clf = SVC(gamma='auto')"
   ]
  },
  {
   "cell_type": "code",
   "execution_count": 118,
   "metadata": {},
   "outputs": [
    {
     "data": {
      "text/plain": [
       "SVC(C=1.0, cache_size=200, class_weight=None, coef0=0.0,\n",
       "  decision_function_shape='ovr', degree=3, gamma='auto', kernel='rbf',\n",
       "  max_iter=-1, probability=False, random_state=None, shrinking=True,\n",
       "  tol=0.001, verbose=False)"
      ]
     },
     "execution_count": 118,
     "metadata": {},
     "output_type": "execute_result"
    }
   ],
   "source": [
    "clf.fit(all_data, labels) \n"
   ]
  },
  {
   "cell_type": "code",
   "execution_count": 119,
   "metadata": {},
   "outputs": [
    {
     "data": {
      "text/plain": [
       "1.0"
      ]
     },
     "execution_count": 119,
     "metadata": {},
     "output_type": "execute_result"
    }
   ],
   "source": [
    "from sklearn.metrics import accuracy_score\n",
    "y_pred = clf.predict(all_data)\n",
    "accuracy_score(labels, y_pred)"
   ]
  },
  {
   "cell_type": "code",
   "execution_count": 121,
   "metadata": {},
   "outputs": [],
   "source": [
    "df1 = pd.read_csv(\"../outAlex1.csv\")"
   ]
  },
  {
   "cell_type": "code",
   "execution_count": 122,
   "metadata": {},
   "outputs": [
    {
     "data": {
      "text/plain": [
       "['Unnamed: 0',\n",
       " 'photoId',\n",
       " 'value',\n",
       " 'prob',\n",
       " 'label',\n",
       " 'photoIdOrig',\n",
       " 'value1',\n",
       " 'norm']"
      ]
     },
     "execution_count": 122,
     "metadata": {},
     "output_type": "execute_result"
    }
   ],
   "source": [
    "list(df1)"
   ]
  },
  {
   "cell_type": "code",
   "execution_count": 124,
   "metadata": {},
   "outputs": [
    {
     "data": {
      "text/plain": [
       "Unnamed: 0       int64\n",
       "photoId         object\n",
       "value          float64\n",
       "prob           float64\n",
       "label            int64\n",
       "photoIdOrig     object\n",
       "value1         float64\n",
       "norm             int64\n",
       "dtype: object"
      ]
     },
     "execution_count": 124,
     "metadata": {},
     "output_type": "execute_result"
    }
   ],
   "source": [
    "df1.dtypes"
   ]
  },
  {
   "cell_type": "code",
   "execution_count": 125,
   "metadata": {},
   "outputs": [
    {
     "data": {
      "text/plain": [
       "0       1\n",
       "1       0\n",
       "2       0\n",
       "3       1\n",
       "4       1\n",
       "5       1\n",
       "6       1\n",
       "7       0\n",
       "8       0\n",
       "9       1\n",
       "10      1\n",
       "11      1\n",
       "12      0\n",
       "13      0\n",
       "14      0\n",
       "15      1\n",
       "16      0\n",
       "17      0\n",
       "18      1\n",
       "19      1\n",
       "20      0\n",
       "21      1\n",
       "22      1\n",
       "23      1\n",
       "24      1\n",
       "25      0\n",
       "26      0\n",
       "27      1\n",
       "28      1\n",
       "29      1\n",
       "       ..\n",
       "2765    0\n",
       "2766    0\n",
       "2767    0\n",
       "2768    0\n",
       "2769    0\n",
       "2770    0\n",
       "2771    0\n",
       "2772    0\n",
       "2773    0\n",
       "2774    0\n",
       "2775    0\n",
       "2776    0\n",
       "2777    0\n",
       "2778    0\n",
       "2779    0\n",
       "2780    0\n",
       "2781    0\n",
       "2782    0\n",
       "2783    0\n",
       "2784    0\n",
       "2785    0\n",
       "2786    0\n",
       "2787    0\n",
       "2788    0\n",
       "2789    0\n",
       "2790    0\n",
       "2791    0\n",
       "2792    0\n",
       "2793    0\n",
       "2794    0\n",
       "Name: norm, Length: 2795, dtype: int64"
      ]
     },
     "execution_count": 125,
     "metadata": {},
     "output_type": "execute_result"
    }
   ],
   "source": [
    "df1['norm']"
   ]
  },
  {
   "cell_type": "code",
   "execution_count": 126,
   "metadata": {},
   "outputs": [],
   "source": [
    "import glob\n",
    "gl1 = glob.glob(\"/home/nihira/Documents/CS6220BigData/Project/neural-image-assessment-master/trainingYelp/*.jpg\")\n"
   ]
  },
  {
   "cell_type": "code",
   "execution_count": 136,
   "metadata": {},
   "outputs": [
    {
     "data": {
      "text/plain": [
       "2795"
      ]
     },
     "execution_count": 136,
     "metadata": {},
     "output_type": "execute_result"
    }
   ],
   "source": [
    "len(gl1)"
   ]
  },
  {
   "cell_type": "code",
   "execution_count": 139,
   "metadata": {},
   "outputs": [
    {
     "data": {
      "text/plain": [
       "'/home/nihira/Documents/CS6220BigData/Project/neural-image-assessment-master/trainingYelp/d3Xl5TN6Wq6OapbNO4Qmqg.jpg'"
      ]
     },
     "execution_count": 139,
     "metadata": {},
     "output_type": "execute_result"
    }
   ],
   "source": [
    "gl1[0]"
   ]
  },
  {
   "cell_type": "code",
   "execution_count": 137,
   "metadata": {},
   "outputs": [],
   "source": [
    "filenames1 = []\n",
    "for glo in gl1:\n",
    "    filenames1.append(glo.split(\"/\")[8].split(\".\")[0])"
   ]
  },
  {
   "cell_type": "code",
   "execution_count": 138,
   "metadata": {},
   "outputs": [
    {
     "data": {
      "text/plain": [
       "2795"
      ]
     },
     "execution_count": 138,
     "metadata": {},
     "output_type": "execute_result"
    }
   ],
   "source": [
    "len(filenames1)"
   ]
  },
  {
   "cell_type": "code",
   "execution_count": 147,
   "metadata": {},
   "outputs": [],
   "source": [
    "vgg16_feature_list1 = []\n",
    "# subdir = \"labelledYelp/\"\n",
    "for img_path in gl1:        # process the files under the directory 'dogs' or 'cats'\n",
    "        # ...\n",
    "\n",
    "        img = image.load_img(img_path, target_size=(224, 224))\n",
    "        img_data = image.img_to_array(img)\n",
    "        img_data = np.expand_dims(img_data, axis=0)\n",
    "        img_data = preprocess_input(img_data)\n",
    "\n",
    "        vgg16_feature = model.predict(img_data)\n",
    "        vgg16_feature_np = np.array(vgg16_feature)\n",
    "        vgg16_feature_list1.append(vgg16_feature_np.flatten())\n",
    "        \n",
    "vgg16_feature_list_np1 = np.array(vgg16_feature_list1)\n",
    "# kmeans = KMeans(n_clusters=2, random_state=0).fit(vgg16_feature_list_np)\n"
   ]
  },
  {
   "cell_type": "code",
   "execution_count": 148,
   "metadata": {},
   "outputs": [
    {
     "data": {
      "text/plain": [
       "(2795, 25088)"
      ]
     },
     "execution_count": 148,
     "metadata": {},
     "output_type": "execute_result"
    }
   ],
   "source": [
    "vgg16_feature_list_np1.shape\n"
   ]
  },
  {
   "cell_type": "code",
   "execution_count": 149,
   "metadata": {},
   "outputs": [],
   "source": [
    "df1 = pd.read_csv('../trainLabelsVGG.csv')\n",
    "# df1.columns = [\"no\", \"photoId\", \"semi\", \"score\", \"equal\", \"value\"]\n"
   ]
  },
  {
   "cell_type": "code",
   "execution_count": 150,
   "metadata": {},
   "outputs": [
    {
     "data": {
      "text/html": [
       "<div>\n",
       "<style scoped>\n",
       "    .dataframe tbody tr th:only-of-type {\n",
       "        vertical-align: middle;\n",
       "    }\n",
       "\n",
       "    .dataframe tbody tr th {\n",
       "        vertical-align: top;\n",
       "    }\n",
       "\n",
       "    .dataframe thead th {\n",
       "        text-align: right;\n",
       "    }\n",
       "</style>\n",
       "<table border=\"1\" class=\"dataframe\">\n",
       "  <thead>\n",
       "    <tr style=\"text-align: right;\">\n",
       "      <th></th>\n",
       "      <th>Unnamed: 0</th>\n",
       "      <th>photoId</th>\n",
       "      <th>value</th>\n",
       "      <th>value1</th>\n",
       "      <th>label_x</th>\n",
       "      <th>norm</th>\n",
       "      <th>prob</th>\n",
       "      <th>label_y</th>\n",
       "      <th>photoIdOrig</th>\n",
       "    </tr>\n",
       "  </thead>\n",
       "  <tbody>\n",
       "    <tr>\n",
       "      <th>0</th>\n",
       "      <td>0</td>\n",
       "      <td>lm8n-ddgwgz8sgbuvkz9uw</td>\n",
       "      <td>5.94856</td>\n",
       "      <td>1.000000</td>\n",
       "      <td>1</td>\n",
       "      <td>1</td>\n",
       "      <td>0.959176</td>\n",
       "      <td>1</td>\n",
       "      <td>LM8N-DdGwgz8sGBuVkZ9uw</td>\n",
       "    </tr>\n",
       "    <tr>\n",
       "      <th>1</th>\n",
       "      <td>1</td>\n",
       "      <td>b0djwv7ocgknejww3roqsa</td>\n",
       "      <td>5.94517</td>\n",
       "      <td>0.998411</td>\n",
       "      <td>1</td>\n",
       "      <td>1</td>\n",
       "      <td>0.000000</td>\n",
       "      <td>0</td>\n",
       "      <td>b0dJWV7OcGkNEjWw3rOqsA</td>\n",
       "    </tr>\n",
       "    <tr>\n",
       "      <th>2</th>\n",
       "      <td>2</td>\n",
       "      <td>qpfwxx8xosp44smhc-rbfg</td>\n",
       "      <td>5.86847</td>\n",
       "      <td>0.962469</td>\n",
       "      <td>1</td>\n",
       "      <td>1</td>\n",
       "      <td>0.000000</td>\n",
       "      <td>0</td>\n",
       "      <td>qPfWXx8xOSp44sMhc-Rbfg</td>\n",
       "    </tr>\n",
       "    <tr>\n",
       "      <th>3</th>\n",
       "      <td>3</td>\n",
       "      <td>06vyjxhn0evriihjlwsx0g</td>\n",
       "      <td>5.85913</td>\n",
       "      <td>0.958092</td>\n",
       "      <td>1</td>\n",
       "      <td>1</td>\n",
       "      <td>0.981467</td>\n",
       "      <td>1</td>\n",
       "      <td>06vyJxHn0EvRiiHJlWsx0g</td>\n",
       "    </tr>\n",
       "    <tr>\n",
       "      <th>4</th>\n",
       "      <td>4</td>\n",
       "      <td>xzwmzemw6aqsxg9fmxbzcw</td>\n",
       "      <td>5.83328</td>\n",
       "      <td>0.945978</td>\n",
       "      <td>1</td>\n",
       "      <td>1</td>\n",
       "      <td>0.834157</td>\n",
       "      <td>1</td>\n",
       "      <td>XZWmzEMW6aQsXg9FmXBZcw</td>\n",
       "    </tr>\n",
       "  </tbody>\n",
       "</table>\n",
       "</div>"
      ],
      "text/plain": [
       "   Unnamed: 0                 photoId    value    value1  label_x  norm  \\\n",
       "0           0  lm8n-ddgwgz8sgbuvkz9uw  5.94856  1.000000        1     1   \n",
       "1           1  b0djwv7ocgknejww3roqsa  5.94517  0.998411        1     1   \n",
       "2           2  qpfwxx8xosp44smhc-rbfg  5.86847  0.962469        1     1   \n",
       "3           3  06vyjxhn0evriihjlwsx0g  5.85913  0.958092        1     1   \n",
       "4           4  xzwmzemw6aqsxg9fmxbzcw  5.83328  0.945978        1     1   \n",
       "\n",
       "       prob  label_y             photoIdOrig  \n",
       "0  0.959176        1  LM8N-DdGwgz8sGBuVkZ9uw  \n",
       "1  0.000000        0  b0dJWV7OcGkNEjWw3rOqsA  \n",
       "2  0.000000        0  qPfWXx8xOSp44sMhc-Rbfg  \n",
       "3  0.981467        1  06vyJxHn0EvRiiHJlWsx0g  \n",
       "4  0.834157        1  XZWmzEMW6aQsXg9FmXBZcw  "
      ]
     },
     "execution_count": 150,
     "metadata": {},
     "output_type": "execute_result"
    }
   ],
   "source": [
    "df1.head()"
   ]
  },
  {
   "cell_type": "code",
   "execution_count": 151,
   "metadata": {},
   "outputs": [],
   "source": [
    "scores1 = []\n",
    "labels1 = []\n",
    "for file in filenames1:\n",
    "    f = df1.loc[df1['photoIdOrig'] == file]\n",
    "    scores1.append(df1.loc[df1['photoIdOrig'] == file].value.item())\n",
    "#     if((f['good']+f['useful']) == 2.0):\n",
    "#         label = 1\n",
    "#     else:\n",
    "#         label = 0\n",
    "\n",
    "#     sum = f['good']+f['useful']\n",
    "#     x = f['good']\n",
    "#     y = f['useful']\n",
    "#     label = None\n",
    "#     if(np.logical_and(x, y).bool()):\n",
    "#         label = 1\n",
    "#     else:\n",
    "#         label = 0\n",
    "    labels1.append(f.norm.item())\n",
    "     "
   ]
  },
  {
   "cell_type": "code",
   "execution_count": 152,
   "metadata": {},
   "outputs": [],
   "source": [
    "scores1 = np.array(scores1)\n",
    "labels1 = np.array(labels1)"
   ]
  },
  {
   "cell_type": "code",
   "execution_count": 153,
   "metadata": {},
   "outputs": [],
   "source": [
    "# all_data = np.append(vgg16_feature_list_np, scores, axis = 1)\n",
    "all_data1 = np.column_stack([vgg16_feature_list_np1,scores1])\n"
   ]
  },
  {
   "cell_type": "code",
   "execution_count": 154,
   "metadata": {},
   "outputs": [
    {
     "data": {
      "text/plain": [
       "SVC(C=1.0, cache_size=200, class_weight=None, coef0=0.0,\n",
       "  decision_function_shape='ovr', degree=3, gamma='auto', kernel='rbf',\n",
       "  max_iter=-1, probability=False, random_state=None, shrinking=True,\n",
       "  tol=0.001, verbose=False)"
      ]
     },
     "execution_count": 154,
     "metadata": {},
     "output_type": "execute_result"
    }
   ],
   "source": [
    "clf1 = SVC(gamma='auto')\n",
    "clf1.fit(all_data1, labels1) \n"
   ]
  },
  {
   "cell_type": "code",
   "execution_count": 155,
   "metadata": {},
   "outputs": [
    {
     "data": {
      "text/plain": [
       "0.6728778467908902"
      ]
     },
     "execution_count": 155,
     "metadata": {},
     "output_type": "execute_result"
    }
   ],
   "source": [
    "from sklearn.metrics import accuracy_score, precision_score\n",
    "y_pred1 = clf1.predict(all_data)\n",
    "accuracy_score(labels, y_pred1)"
   ]
  },
  {
   "cell_type": "code",
   "execution_count": 156,
   "metadata": {},
   "outputs": [],
   "source": [
    "from sklearn.metrics import accuracy_score, precision_score\n"
   ]
  },
  {
   "cell_type": "code",
   "execution_count": 157,
   "metadata": {},
   "outputs": [
    {
     "data": {
      "text/plain": [
       "0.6756756756756757"
      ]
     },
     "execution_count": 157,
     "metadata": {},
     "output_type": "execute_result"
    }
   ],
   "source": [
    "precision_score(labels, y_pred1)"
   ]
  },
  {
   "cell_type": "code",
   "execution_count": null,
   "metadata": {},
   "outputs": [],
   "source": []
  }
 ],
 "metadata": {
  "kernelspec": {
   "display_name": "Python 3",
   "language": "python",
   "name": "python3"
  },
  "language_info": {
   "codemirror_mode": {
    "name": "ipython",
    "version": 3
   },
   "file_extension": ".py",
   "mimetype": "text/x-python",
   "name": "python",
   "nbconvert_exporter": "python",
   "pygments_lexer": "ipython3",
   "version": "3.6.6"
  }
 },
 "nbformat": 4,
 "nbformat_minor": 2
}
