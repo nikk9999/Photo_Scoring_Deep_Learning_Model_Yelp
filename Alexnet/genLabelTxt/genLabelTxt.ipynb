{
 "cells": [
  {
   "cell_type": "code",
   "execution_count": 1,
   "metadata": {},
   "outputs": [],
   "source": [
    "import pandas as pd\n",
    "import os\n",
    "import shutil\n",
    "import glob\n",
    "from random import shuffle"
   ]
  },
  {
   "cell_type": "code",
   "execution_count": 12,
   "metadata": {},
   "outputs": [],
   "source": [
    "#dataset labeled by NIMA + Clarfai \n",
    "dataset = '../labeledTrain.csv'\n",
    "\n",
    "#train set\n",
    "path_from_alexnet_str = '../../trainingYelp/'\n",
    "\n",
    "samP = pd.read_csv(dataset)"
   ]
  },
  {
   "cell_type": "code",
   "execution_count": 13,
   "metadata": {},
   "outputs": [
    {
     "data": {
      "text/plain": [
       "(3525, 5)"
      ]
     },
     "execution_count": 13,
     "metadata": {},
     "output_type": "execute_result"
    }
   ],
   "source": [
    "samP.shape"
   ]
  },
  {
   "cell_type": "code",
   "execution_count": 14,
   "metadata": {},
   "outputs": [
    {
     "data": {
      "text/html": [
       "<div>\n",
       "<style scoped>\n",
       "    .dataframe tbody tr th:only-of-type {\n",
       "        vertical-align: middle;\n",
       "    }\n",
       "\n",
       "    .dataframe tbody tr th {\n",
       "        vertical-align: top;\n",
       "    }\n",
       "\n",
       "    .dataframe thead th {\n",
       "        text-align: right;\n",
       "    }\n",
       "</style>\n",
       "<table border=\"1\" class=\"dataframe\">\n",
       "  <thead>\n",
       "    <tr style=\"text-align: right;\">\n",
       "      <th></th>\n",
       "      <th>Unnamed: 0</th>\n",
       "      <th>photo_id</th>\n",
       "      <th>withmetrics</th>\n",
       "      <th>clarifai</th>\n",
       "      <th>label</th>\n",
       "    </tr>\n",
       "  </thead>\n",
       "  <tbody>\n",
       "    <tr>\n",
       "      <th>0</th>\n",
       "      <td>0</td>\n",
       "      <td>LM8N-DdGwgz8sGBuVkZ9uw</td>\n",
       "      <td>1</td>\n",
       "      <td>1</td>\n",
       "      <td>1</td>\n",
       "    </tr>\n",
       "    <tr>\n",
       "      <th>1</th>\n",
       "      <td>1</td>\n",
       "      <td>b0dJWV7OcGkNEjWw3rOqsA</td>\n",
       "      <td>1</td>\n",
       "      <td>0</td>\n",
       "      <td>0</td>\n",
       "    </tr>\n",
       "    <tr>\n",
       "      <th>2</th>\n",
       "      <td>2</td>\n",
       "      <td>qPfWXx8xOSp44sMhc-Rbfg</td>\n",
       "      <td>1</td>\n",
       "      <td>0</td>\n",
       "      <td>0</td>\n",
       "    </tr>\n",
       "    <tr>\n",
       "      <th>3</th>\n",
       "      <td>3</td>\n",
       "      <td>06vyJxHn0EvRiiHJlWsx0g</td>\n",
       "      <td>1</td>\n",
       "      <td>1</td>\n",
       "      <td>1</td>\n",
       "    </tr>\n",
       "    <tr>\n",
       "      <th>4</th>\n",
       "      <td>4</td>\n",
       "      <td>XZWmzEMW6aQsXg9FmXBZcw</td>\n",
       "      <td>1</td>\n",
       "      <td>0</td>\n",
       "      <td>0</td>\n",
       "    </tr>\n",
       "  </tbody>\n",
       "</table>\n",
       "</div>"
      ],
      "text/plain": [
       "   Unnamed: 0                photo_id  withmetrics  clarifai  label\n",
       "0           0  LM8N-DdGwgz8sGBuVkZ9uw            1         1      1\n",
       "1           1  b0dJWV7OcGkNEjWw3rOqsA            1         0      0\n",
       "2           2  qPfWXx8xOSp44sMhc-Rbfg            1         0      0\n",
       "3           3  06vyJxHn0EvRiiHJlWsx0g            1         1      1\n",
       "4           4  XZWmzEMW6aQsXg9FmXBZcw            1         0      0"
      ]
     },
     "execution_count": 14,
     "metadata": {},
     "output_type": "execute_result"
    }
   ],
   "source": [
    "samP.head()"
   ]
  },
  {
   "cell_type": "code",
   "execution_count": 15,
   "metadata": {},
   "outputs": [],
   "source": [
    "photoIDs = samP['photo_id'].tolist()\n",
    "labels    = samP['label'].tolist()"
   ]
  },
  {
   "cell_type": "code",
   "execution_count": 16,
   "metadata": {
    "scrolled": true
   },
   "outputs": [
    {
     "name": "stdout",
     "output_type": "stream",
     "text": [
      "neg samples: 1603\n",
      "../../trainingYelp/b0dJWV7OcGkNEjWw3rOqsA.jpg 0\n",
      "pos samples: 1922\n",
      "../../trainingYelp/LM8N-DdGwgz8sGBuVkZ9uw.jpg 1\n"
     ]
    }
   ],
   "source": [
    "#formatting the data as required by fine tune alexnet\n",
    "\n",
    "label_n = []\n",
    "label_p = []\n",
    "\n",
    "for i in range(len(labels)):\n",
    "    #print(str(i) + ' ' + str(labels[i]))\n",
    "    curr_line = path_from_alexnet_str + str(photoIDs[i]) + '.jpg ' + str(int(labels[i]))\n",
    "    \n",
    "    if(int(labels[i]) == 0):\n",
    "        label_n.append(curr_line)\n",
    "    else:\n",
    "        label_p.append(curr_line)\n",
    "    \n",
    "print('neg samples: ' + str(len(label_n)) + '\\n' + label_n[0])\n",
    "print('pos samples: ' + str(len(label_p)) + '\\n' + label_p[0])\n"
   ]
  },
  {
   "cell_type": "code",
   "execution_count": 17,
   "metadata": {
    "scrolled": true
   },
   "outputs": [
    {
     "name": "stdout",
     "output_type": "stream",
     "text": [
      "shuffled neg samples:\n",
      "../../trainingYelp/ZiWj1h9CdNILeah3d8Uo9Q.jpg 0\n",
      "shuffled pos samples:\n",
      "../../trainingYelp/trnlRD65Fe8v3Dn97acSOQ.jpg 1\n",
      "\n",
      "        sample size: 3525 positive: 1922 negative: 1603\n",
      "total train samples: 2819 positive: 1537 negative: 1282\n",
      "total   val samples: 706  positive: 385  negative: 321\n"
     ]
    }
   ],
   "source": [
    "#80-20 split for pos and neg samples\n",
    "\n",
    "shuffle(label_n)\n",
    "shuffle(label_p)\n",
    "\n",
    "print('shuffled neg samples:\\n' + label_n[0])\n",
    "print('shuffled pos samples:\\n' + label_p[0])\n",
    "\n",
    "num_train_n = int(0.8 * len(label_n))\n",
    "num_train_p = int(0.8 * len(label_p))\n",
    "\n",
    "num_val_n = len(label_n) - num_train_n\n",
    "num_val_p = len(label_p) - num_train_p\n",
    "\n",
    "num_train = num_train_n + num_train_p\n",
    "num_val   = num_val_n + num_val_p\n",
    "\n",
    "train_l = label_n[:num_train_n]\n",
    "train_l.extend(label_p[:num_train_p])\n",
    "\n",
    "val_l   = label_n[num_train_n:]\n",
    "val_l.extend(label_p[num_train_p:])\n",
    "\n",
    "#printing data stats\n",
    "print()\n",
    "print('        sample size: ' + str(len(label_n)+len(label_p)) + ' positive: ' + str(len(label_p)) + ' negative: ' + str(len(label_n)))\n",
    "print('total train samples: ' + str(num_train) + ' positive: ' + str(num_train_p) + ' negative: ' + str(num_train_n) )\n",
    "print('total   val samples: ' + str(num_val) + '  positive: ' + str(num_val_p) + '  negative: ' + str(num_val_n) )\n"
   ]
  },
  {
   "cell_type": "code",
   "execution_count": 18,
   "metadata": {},
   "outputs": [],
   "source": [
    "#dump data in respective files\n",
    "\n",
    "#train set\n",
    "train_pth = '../alexnet/finetune_alexnet_with_tensorflow/train_yelp.txt'\n",
    "val_pth   = '../alexnet/finetune_alexnet_with_tensorflow/val_yelp.txt'\n",
    "\n",
    "with open(train_pth, 'w+') as t:\n",
    "    for l in train_l:\n",
    "        t.write(\"%s\\n\" % l)\n",
    "        \n",
    "with open(val_pth, 'w+') as v:\n",
    "    for l in val_l:\n",
    "        v.write(\"%s\\n\" % l)\n",
    "\n",
    "\n",
    "\n",
    "\n"
   ]
  },
  {
   "cell_type": "code",
   "execution_count": 11,
   "metadata": {},
   "outputs": [],
   "source": [
    "#test data set\n",
    "\n",
    "#original manually labeled dataset\n",
    "#dataset_t = 'labeleddataset_o.csv'\n",
    "#dataset_t = 'testimages.csv'\n",
    "\n",
    "#test set\n",
    "#path_from_alexnet_str_t = '../../labeledYelp/'\n",
    "#path_from_alexnet_str_t = '../yelp_test_images/'\n",
    "\n",
    "#samP = pd.read_csv(dataset_t)\n",
    "\n",
    "#photoIDs = samP['photo_id'].tolist()\n",
    "#labels  = samP['good'].tolist()\n",
    "\n",
    "#for i in range(len(labels)):\n",
    "    #print(str(i) + ' ' + str(labels[i]))\n",
    "    #curr_line = path_from_alexnet_str_t + str(photoIDs[i]) + '.jpg ' + str(int(labels[i]))\n"
   ]
  }
 ],
 "metadata": {
  "kernelspec": {
   "display_name": "Python 3",
   "language": "python",
   "name": "python3"
  },
  "language_info": {
   "codemirror_mode": {
    "name": "ipython",
    "version": 3
   },
   "file_extension": ".py",
   "mimetype": "text/x-python",
   "name": "python",
   "nbconvert_exporter": "python",
   "pygments_lexer": "ipython3",
   "version": "3.5.6"
  }
 },
 "nbformat": 4,
 "nbformat_minor": 2
}
