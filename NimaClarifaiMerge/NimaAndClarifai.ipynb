{
 "cells": [
  {
   "cell_type": "code",
   "execution_count": 1,
   "metadata": {},
   "outputs": [],
   "source": [
    "import pandas as pd\n",
    "import numpy as np\n",
    "from sklearn import preprocessing\n",
    "import os\n",
    "import shutil\n"
   ]
  },
  {
   "cell_type": "code",
   "execution_count": 30,
   "metadata": {},
   "outputs": [],
   "source": [
    "clarifai = pd.read_csv(\"trainData.csv\")"
   ]
  },
  {
   "cell_type": "code",
   "execution_count": 16,
   "metadata": {},
   "outputs": [
    {
     "data": {
      "text/html": [
       "<div>\n",
       "<style scoped>\n",
       "    .dataframe tbody tr th:only-of-type {\n",
       "        vertical-align: middle;\n",
       "    }\n",
       "\n",
       "    .dataframe tbody tr th {\n",
       "        vertical-align: top;\n",
       "    }\n",
       "\n",
       "    .dataframe thead th {\n",
       "        text-align: right;\n",
       "    }\n",
       "</style>\n",
       "<table border=\"1\" class=\"dataframe\">\n",
       "  <thead>\n",
       "    <tr style=\"text-align: right;\">\n",
       "      <th></th>\n",
       "      <th>photoId</th>\n",
       "      <th>prob</th>\n",
       "    </tr>\n",
       "  </thead>\n",
       "  <tbody>\n",
       "    <tr>\n",
       "      <th>0</th>\n",
       "      <td>8wgppAqw7iZB8Nn_g7Sh5Q.jpg</td>\n",
       "      <td>0.000000</td>\n",
       "    </tr>\n",
       "    <tr>\n",
       "      <th>1</th>\n",
       "      <td>bBn5wNzDxNWHRJ-HltWLAw.jpg</td>\n",
       "      <td>0.000000</td>\n",
       "    </tr>\n",
       "    <tr>\n",
       "      <th>2</th>\n",
       "      <td>4eNFVaXUeZK1gXm0p7x1HQ.jpg</td>\n",
       "      <td>0.991816</td>\n",
       "    </tr>\n",
       "    <tr>\n",
       "      <th>3</th>\n",
       "      <td>a4de5xLtcL4daxBiHchBUA.jpg</td>\n",
       "      <td>0.986196</td>\n",
       "    </tr>\n",
       "    <tr>\n",
       "      <th>4</th>\n",
       "      <td>a5PVRf-XMaCCUeH4rHZboQ.jpg</td>\n",
       "      <td>0.994638</td>\n",
       "    </tr>\n",
       "  </tbody>\n",
       "</table>\n",
       "</div>"
      ],
      "text/plain": [
       "                      photoId      prob\n",
       "0  8wgppAqw7iZB8Nn_g7Sh5Q.jpg  0.000000\n",
       "1  bBn5wNzDxNWHRJ-HltWLAw.jpg  0.000000\n",
       "2  4eNFVaXUeZK1gXm0p7x1HQ.jpg  0.991816\n",
       "3  a4de5xLtcL4daxBiHchBUA.jpg  0.986196\n",
       "4  a5PVRf-XMaCCUeH4rHZboQ.jpg  0.994638"
      ]
     },
     "execution_count": 16,
     "metadata": {},
     "output_type": "execute_result"
    }
   ],
   "source": [
    "clarifai.head()"
   ]
  },
  {
   "cell_type": "code",
   "execution_count": 4,
   "metadata": {},
   "outputs": [],
   "source": [
    "clarifai['label'] = np.where(clarifai['prob']>=0.8, 1, 0)\n"
   ]
  },
  {
   "cell_type": "code",
   "execution_count": 262,
   "metadata": {},
   "outputs": [
    {
     "data": {
      "text/html": [
       "<div>\n",
       "<style scoped>\n",
       "    .dataframe tbody tr th:only-of-type {\n",
       "        vertical-align: middle;\n",
       "    }\n",
       "\n",
       "    .dataframe tbody tr th {\n",
       "        vertical-align: top;\n",
       "    }\n",
       "\n",
       "    .dataframe thead th {\n",
       "        text-align: right;\n",
       "    }\n",
       "</style>\n",
       "<table border=\"1\" class=\"dataframe\">\n",
       "  <thead>\n",
       "    <tr style=\"text-align: right;\">\n",
       "      <th></th>\n",
       "      <th>photoId</th>\n",
       "      <th>prob</th>\n",
       "      <th>label</th>\n",
       "    </tr>\n",
       "  </thead>\n",
       "  <tbody>\n",
       "    <tr>\n",
       "      <th>0</th>\n",
       "      <td>8wgppAqw7iZB8Nn_g7Sh5Q.jpg</td>\n",
       "      <td>0.000000</td>\n",
       "      <td>0</td>\n",
       "    </tr>\n",
       "    <tr>\n",
       "      <th>1</th>\n",
       "      <td>bBn5wNzDxNWHRJ-HltWLAw.jpg</td>\n",
       "      <td>0.000000</td>\n",
       "      <td>0</td>\n",
       "    </tr>\n",
       "    <tr>\n",
       "      <th>2</th>\n",
       "      <td>4eNFVaXUeZK1gXm0p7x1HQ.jpg</td>\n",
       "      <td>0.991816</td>\n",
       "      <td>1</td>\n",
       "    </tr>\n",
       "    <tr>\n",
       "      <th>3</th>\n",
       "      <td>a4de5xLtcL4daxBiHchBUA.jpg</td>\n",
       "      <td>0.986196</td>\n",
       "      <td>1</td>\n",
       "    </tr>\n",
       "    <tr>\n",
       "      <th>4</th>\n",
       "      <td>a5PVRf-XMaCCUeH4rHZboQ.jpg</td>\n",
       "      <td>0.994638</td>\n",
       "      <td>1</td>\n",
       "    </tr>\n",
       "  </tbody>\n",
       "</table>\n",
       "</div>"
      ],
      "text/plain": [
       "                      photoId      prob  label\n",
       "0  8wgppAqw7iZB8Nn_g7Sh5Q.jpg  0.000000      0\n",
       "1  bBn5wNzDxNWHRJ-HltWLAw.jpg  0.000000      0\n",
       "2  4eNFVaXUeZK1gXm0p7x1HQ.jpg  0.991816      1\n",
       "3  a4de5xLtcL4daxBiHchBUA.jpg  0.986196      1\n",
       "4  a5PVRf-XMaCCUeH4rHZboQ.jpg  0.994638      1"
      ]
     },
     "execution_count": 262,
     "metadata": {},
     "output_type": "execute_result"
    }
   ],
   "source": [
    "clarifai.head()"
   ]
  },
  {
   "cell_type": "code",
   "execution_count": 31,
   "metadata": {},
   "outputs": [],
   "source": [
    "def label_race (row):\n",
    "     return row['photoId'].split('.')[0]\n",
    "clarifai['photoId'] = clarifai.apply (lambda row: label_race (row),axis=1)\n"
   ]
  },
  {
   "cell_type": "code",
   "execution_count": 32,
   "metadata": {},
   "outputs": [],
   "source": [
    "clarifai['photoIdOrig'] = clarifai['photoId'] "
   ]
  },
  {
   "cell_type": "code",
   "execution_count": 33,
   "metadata": {},
   "outputs": [],
   "source": [
    "clarifai['photoId'] = clarifai['photoId'].str.lower()"
   ]
  },
  {
   "cell_type": "code",
   "execution_count": 8,
   "metadata": {},
   "outputs": [
    {
     "data": {
      "text/html": [
       "<div>\n",
       "<style scoped>\n",
       "    .dataframe tbody tr th:only-of-type {\n",
       "        vertical-align: middle;\n",
       "    }\n",
       "\n",
       "    .dataframe tbody tr th {\n",
       "        vertical-align: top;\n",
       "    }\n",
       "\n",
       "    .dataframe thead th {\n",
       "        text-align: right;\n",
       "    }\n",
       "</style>\n",
       "<table border=\"1\" class=\"dataframe\">\n",
       "  <thead>\n",
       "    <tr style=\"text-align: right;\">\n",
       "      <th></th>\n",
       "      <th>photoId</th>\n",
       "      <th>prob</th>\n",
       "      <th>label</th>\n",
       "      <th>photoIdOrig</th>\n",
       "    </tr>\n",
       "  </thead>\n",
       "  <tbody>\n",
       "    <tr>\n",
       "      <th>0</th>\n",
       "      <td>8wgppaqw7izb8nn_g7sh5q</td>\n",
       "      <td>0.000000</td>\n",
       "      <td>0</td>\n",
       "      <td>8wgppAqw7iZB8Nn_g7Sh5Q</td>\n",
       "    </tr>\n",
       "    <tr>\n",
       "      <th>1</th>\n",
       "      <td>bbn5wnzdxnwhrj-hltwlaw</td>\n",
       "      <td>0.000000</td>\n",
       "      <td>0</td>\n",
       "      <td>bBn5wNzDxNWHRJ-HltWLAw</td>\n",
       "    </tr>\n",
       "    <tr>\n",
       "      <th>2</th>\n",
       "      <td>4enfvaxuezk1gxm0p7x1hq</td>\n",
       "      <td>0.991816</td>\n",
       "      <td>1</td>\n",
       "      <td>4eNFVaXUeZK1gXm0p7x1HQ</td>\n",
       "    </tr>\n",
       "    <tr>\n",
       "      <th>3</th>\n",
       "      <td>a4de5xltcl4daxbihchbua</td>\n",
       "      <td>0.986196</td>\n",
       "      <td>1</td>\n",
       "      <td>a4de5xLtcL4daxBiHchBUA</td>\n",
       "    </tr>\n",
       "    <tr>\n",
       "      <th>4</th>\n",
       "      <td>a5pvrf-xmaccueh4rhzboq</td>\n",
       "      <td>0.994638</td>\n",
       "      <td>1</td>\n",
       "      <td>a5PVRf-XMaCCUeH4rHZboQ</td>\n",
       "    </tr>\n",
       "  </tbody>\n",
       "</table>\n",
       "</div>"
      ],
      "text/plain": [
       "                  photoId      prob  label             photoIdOrig\n",
       "0  8wgppaqw7izb8nn_g7sh5q  0.000000      0  8wgppAqw7iZB8Nn_g7Sh5Q\n",
       "1  bbn5wnzdxnwhrj-hltwlaw  0.000000      0  bBn5wNzDxNWHRJ-HltWLAw\n",
       "2  4enfvaxuezk1gxm0p7x1hq  0.991816      1  4eNFVaXUeZK1gXm0p7x1HQ\n",
       "3  a4de5xltcl4daxbihchbua  0.986196      1  a4de5xLtcL4daxBiHchBUA\n",
       "4  a5pvrf-xmaccueh4rhzboq  0.994638      1  a5PVRf-XMaCCUeH4rHZboQ"
      ]
     },
     "execution_count": 8,
     "metadata": {},
     "output_type": "execute_result"
    }
   ],
   "source": [
    "clarifai.head()"
   ]
  },
  {
   "cell_type": "code",
   "execution_count": 267,
   "metadata": {},
   "outputs": [
    {
     "data": {
      "text/plain": [
       "789"
      ]
     },
     "execution_count": 267,
     "metadata": {},
     "output_type": "execute_result"
    }
   ],
   "source": [
    "np.sum(clarifai['label']==0)"
   ]
  },
  {
   "cell_type": "code",
   "execution_count": 268,
   "metadata": {},
   "outputs": [
    {
     "data": {
      "text/plain": [
       "2007"
      ]
     },
     "execution_count": 268,
     "metadata": {},
     "output_type": "execute_result"
    }
   ],
   "source": [
    "np.sum(clarifai['label']==1)"
   ]
  },
  {
   "cell_type": "code",
   "execution_count": 2,
   "metadata": {},
   "outputs": [],
   "source": [
    "data = pd.read_csv('neural-image-assessment-master/finalTestYelp.txt', sep=\" \", header=None)\n",
    "data.columns = [\"no\", \"photoId\", \"semi\", \"score\", \"equal\", \"value\"]\n"
   ]
  },
  {
   "cell_type": "code",
   "execution_count": 3,
   "metadata": {},
   "outputs": [
    {
     "data": {
      "text/html": [
       "<div>\n",
       "<style scoped>\n",
       "    .dataframe tbody tr th:only-of-type {\n",
       "        vertical-align: middle;\n",
       "    }\n",
       "\n",
       "    .dataframe tbody tr th {\n",
       "        vertical-align: top;\n",
       "    }\n",
       "\n",
       "    .dataframe thead th {\n",
       "        text-align: right;\n",
       "    }\n",
       "</style>\n",
       "<table border=\"1\" class=\"dataframe\">\n",
       "  <thead>\n",
       "    <tr style=\"text-align: right;\">\n",
       "      <th></th>\n",
       "      <th>no</th>\n",
       "      <th>photoId</th>\n",
       "      <th>semi</th>\n",
       "      <th>score</th>\n",
       "      <th>equal</th>\n",
       "      <th>value</th>\n",
       "    </tr>\n",
       "  </thead>\n",
       "  <tbody>\n",
       "    <tr>\n",
       "      <th>0</th>\n",
       "      <td>1)</td>\n",
       "      <td>1ndsqzwmwpljk0mbowuoiq.jpg</td>\n",
       "      <td>:</td>\n",
       "      <td>Score</td>\n",
       "      <td>=</td>\n",
       "      <td>5.66738</td>\n",
       "    </tr>\n",
       "    <tr>\n",
       "      <th>1</th>\n",
       "      <td>2)</td>\n",
       "      <td>6uyz5nitzeryfdpfr6vndg.jpg</td>\n",
       "      <td>:</td>\n",
       "      <td>Score</td>\n",
       "      <td>=</td>\n",
       "      <td>5.56584</td>\n",
       "    </tr>\n",
       "    <tr>\n",
       "      <th>2</th>\n",
       "      <td>3)</td>\n",
       "      <td>0jwi76tjv-szxrzh2u0eca.jpg</td>\n",
       "      <td>:</td>\n",
       "      <td>Score</td>\n",
       "      <td>=</td>\n",
       "      <td>5.45679</td>\n",
       "    </tr>\n",
       "    <tr>\n",
       "      <th>3</th>\n",
       "      <td>4)</td>\n",
       "      <td>6grquyrtlxnqr55jb4rsiw.jpg</td>\n",
       "      <td>:</td>\n",
       "      <td>Score</td>\n",
       "      <td>=</td>\n",
       "      <td>5.43780</td>\n",
       "    </tr>\n",
       "    <tr>\n",
       "      <th>4</th>\n",
       "      <td>5)</td>\n",
       "      <td>1udc7zxodhgptvxp2ukeiq.jpg</td>\n",
       "      <td>:</td>\n",
       "      <td>Score</td>\n",
       "      <td>=</td>\n",
       "      <td>5.40282</td>\n",
       "    </tr>\n",
       "  </tbody>\n",
       "</table>\n",
       "</div>"
      ],
      "text/plain": [
       "   no                     photoId semi  score equal    value\n",
       "0  1)  1ndsqzwmwpljk0mbowuoiq.jpg    :  Score     =  5.66738\n",
       "1  2)  6uyz5nitzeryfdpfr6vndg.jpg    :  Score     =  5.56584\n",
       "2  3)  0jwi76tjv-szxrzh2u0eca.jpg    :  Score     =  5.45679\n",
       "3  4)  6grquyrtlxnqr55jb4rsiw.jpg    :  Score     =  5.43780\n",
       "4  5)  1udc7zxodhgptvxp2ukeiq.jpg    :  Score     =  5.40282"
      ]
     },
     "execution_count": 3,
     "metadata": {},
     "output_type": "execute_result"
    }
   ],
   "source": [
    "data.head()"
   ]
  },
  {
   "cell_type": "code",
   "execution_count": 4,
   "metadata": {},
   "outputs": [],
   "source": [
    "data = data.drop(['no', 'semi', 'score', 'equal'], axis=1)\n"
   ]
  },
  {
   "cell_type": "code",
   "execution_count": 5,
   "metadata": {},
   "outputs": [
    {
     "data": {
      "text/html": [
       "<div>\n",
       "<style scoped>\n",
       "    .dataframe tbody tr th:only-of-type {\n",
       "        vertical-align: middle;\n",
       "    }\n",
       "\n",
       "    .dataframe tbody tr th {\n",
       "        vertical-align: top;\n",
       "    }\n",
       "\n",
       "    .dataframe thead th {\n",
       "        text-align: right;\n",
       "    }\n",
       "</style>\n",
       "<table border=\"1\" class=\"dataframe\">\n",
       "  <thead>\n",
       "    <tr style=\"text-align: right;\">\n",
       "      <th></th>\n",
       "      <th>photoId</th>\n",
       "      <th>value</th>\n",
       "    </tr>\n",
       "  </thead>\n",
       "  <tbody>\n",
       "    <tr>\n",
       "      <th>0</th>\n",
       "      <td>1ndsqzwmwpljk0mbowuoiq.jpg</td>\n",
       "      <td>5.66738</td>\n",
       "    </tr>\n",
       "    <tr>\n",
       "      <th>1</th>\n",
       "      <td>6uyz5nitzeryfdpfr6vndg.jpg</td>\n",
       "      <td>5.56584</td>\n",
       "    </tr>\n",
       "    <tr>\n",
       "      <th>2</th>\n",
       "      <td>0jwi76tjv-szxrzh2u0eca.jpg</td>\n",
       "      <td>5.45679</td>\n",
       "    </tr>\n",
       "    <tr>\n",
       "      <th>3</th>\n",
       "      <td>6grquyrtlxnqr55jb4rsiw.jpg</td>\n",
       "      <td>5.43780</td>\n",
       "    </tr>\n",
       "    <tr>\n",
       "      <th>4</th>\n",
       "      <td>1udc7zxodhgptvxp2ukeiq.jpg</td>\n",
       "      <td>5.40282</td>\n",
       "    </tr>\n",
       "  </tbody>\n",
       "</table>\n",
       "</div>"
      ],
      "text/plain": [
       "                      photoId    value\n",
       "0  1ndsqzwmwpljk0mbowuoiq.jpg  5.66738\n",
       "1  6uyz5nitzeryfdpfr6vndg.jpg  5.56584\n",
       "2  0jwi76tjv-szxrzh2u0eca.jpg  5.45679\n",
       "3  6grquyrtlxnqr55jb4rsiw.jpg  5.43780\n",
       "4  1udc7zxodhgptvxp2ukeiq.jpg  5.40282"
      ]
     },
     "execution_count": 5,
     "metadata": {},
     "output_type": "execute_result"
    }
   ],
   "source": [
    "data.head()"
   ]
  },
  {
   "cell_type": "code",
   "execution_count": 6,
   "metadata": {},
   "outputs": [],
   "source": [
    "data['photoId'] = [x.split('.')[0] for x in data['photoId']]\n"
   ]
  },
  {
   "cell_type": "code",
   "execution_count": 7,
   "metadata": {},
   "outputs": [],
   "source": [
    "data = data.drop_duplicates(subset='photoId', keep=\"last\")"
   ]
  },
  {
   "cell_type": "code",
   "execution_count": 8,
   "metadata": {},
   "outputs": [
    {
     "data": {
      "text/html": [
       "<div>\n",
       "<style scoped>\n",
       "    .dataframe tbody tr th:only-of-type {\n",
       "        vertical-align: middle;\n",
       "    }\n",
       "\n",
       "    .dataframe tbody tr th {\n",
       "        vertical-align: top;\n",
       "    }\n",
       "\n",
       "    .dataframe thead th {\n",
       "        text-align: right;\n",
       "    }\n",
       "</style>\n",
       "<table border=\"1\" class=\"dataframe\">\n",
       "  <thead>\n",
       "    <tr style=\"text-align: right;\">\n",
       "      <th></th>\n",
       "      <th>photoId</th>\n",
       "      <th>value</th>\n",
       "    </tr>\n",
       "  </thead>\n",
       "  <tbody>\n",
       "    <tr>\n",
       "      <th>0</th>\n",
       "      <td>1ndsqzwmwpljk0mbowuoiq</td>\n",
       "      <td>5.66738</td>\n",
       "    </tr>\n",
       "    <tr>\n",
       "      <th>1</th>\n",
       "      <td>6uyz5nitzeryfdpfr6vndg</td>\n",
       "      <td>5.56584</td>\n",
       "    </tr>\n",
       "    <tr>\n",
       "      <th>2</th>\n",
       "      <td>0jwi76tjv-szxrzh2u0eca</td>\n",
       "      <td>5.45679</td>\n",
       "    </tr>\n",
       "    <tr>\n",
       "      <th>3</th>\n",
       "      <td>6grquyrtlxnqr55jb4rsiw</td>\n",
       "      <td>5.43780</td>\n",
       "    </tr>\n",
       "    <tr>\n",
       "      <th>4</th>\n",
       "      <td>1udc7zxodhgptvxp2ukeiq</td>\n",
       "      <td>5.40282</td>\n",
       "    </tr>\n",
       "  </tbody>\n",
       "</table>\n",
       "</div>"
      ],
      "text/plain": [
       "                  photoId    value\n",
       "0  1ndsqzwmwpljk0mbowuoiq  5.66738\n",
       "1  6uyz5nitzeryfdpfr6vndg  5.56584\n",
       "2  0jwi76tjv-szxrzh2u0eca  5.45679\n",
       "3  6grquyrtlxnqr55jb4rsiw  5.43780\n",
       "4  1udc7zxodhgptvxp2ukeiq  5.40282"
      ]
     },
     "execution_count": 8,
     "metadata": {},
     "output_type": "execute_result"
    }
   ],
   "source": [
    "data.head()"
   ]
  },
  {
   "cell_type": "code",
   "execution_count": 9,
   "metadata": {},
   "outputs": [
    {
     "data": {
      "text/plain": [
       "(30, 2)"
      ]
     },
     "execution_count": 9,
     "metadata": {},
     "output_type": "execute_result"
    }
   ],
   "source": [
    "data.shape"
   ]
  },
  {
   "cell_type": "code",
   "execution_count": 10,
   "metadata": {},
   "outputs": [],
   "source": [
    "x = data['value'].values.reshape(-1, 1) #returns a numpy array\n",
    "min_max_scaler = preprocessing.MinMaxScaler()\n",
    "x_scaled = min_max_scaler.fit_transform(x)\n",
    "data['value1'] = x_scaled.reshape(-1, 1)"
   ]
  },
  {
   "cell_type": "code",
   "execution_count": 11,
   "metadata": {},
   "outputs": [
    {
     "data": {
      "text/plain": [
       "['photoId', 'value', 'value1']"
      ]
     },
     "execution_count": 11,
     "metadata": {},
     "output_type": "execute_result"
    }
   ],
   "source": [
    "list(data)"
   ]
  },
  {
   "cell_type": "code",
   "execution_count": 12,
   "metadata": {},
   "outputs": [],
   "source": [
    "data['norm'] = np.where((data['value1']>0.5), 1, 0)\n"
   ]
  },
  {
   "cell_type": "code",
   "execution_count": 13,
   "metadata": {},
   "outputs": [
    {
     "data": {
      "text/plain": [
       "11"
      ]
     },
     "execution_count": 13,
     "metadata": {},
     "output_type": "execute_result"
    }
   ],
   "source": [
    "sum(data['norm']==0)"
   ]
  },
  {
   "cell_type": "code",
   "execution_count": 33,
   "metadata": {},
   "outputs": [
    {
     "data": {
      "text/plain": [
       "(13402, 4)"
      ]
     },
     "execution_count": 33,
     "metadata": {},
     "output_type": "execute_result"
    }
   ],
   "source": [
    "data.shape"
   ]
  },
  {
   "cell_type": "code",
   "execution_count": 14,
   "metadata": {},
   "outputs": [
    {
     "data": {
      "text/html": [
       "<div>\n",
       "<style scoped>\n",
       "    .dataframe tbody tr th:only-of-type {\n",
       "        vertical-align: middle;\n",
       "    }\n",
       "\n",
       "    .dataframe tbody tr th {\n",
       "        vertical-align: top;\n",
       "    }\n",
       "\n",
       "    .dataframe thead th {\n",
       "        text-align: right;\n",
       "    }\n",
       "</style>\n",
       "<table border=\"1\" class=\"dataframe\">\n",
       "  <thead>\n",
       "    <tr style=\"text-align: right;\">\n",
       "      <th></th>\n",
       "      <th>photoId</th>\n",
       "      <th>value</th>\n",
       "      <th>value1</th>\n",
       "      <th>norm</th>\n",
       "    </tr>\n",
       "  </thead>\n",
       "  <tbody>\n",
       "    <tr>\n",
       "      <th>0</th>\n",
       "      <td>1ndsqzwmwpljk0mbowuoiq</td>\n",
       "      <td>5.66738</td>\n",
       "      <td>1.000000</td>\n",
       "      <td>1</td>\n",
       "    </tr>\n",
       "    <tr>\n",
       "      <th>1</th>\n",
       "      <td>6uyz5nitzeryfdpfr6vndg</td>\n",
       "      <td>5.56584</td>\n",
       "      <td>0.915996</td>\n",
       "      <td>1</td>\n",
       "    </tr>\n",
       "    <tr>\n",
       "      <th>2</th>\n",
       "      <td>0jwi76tjv-szxrzh2u0eca</td>\n",
       "      <td>5.45679</td>\n",
       "      <td>0.825779</td>\n",
       "      <td>1</td>\n",
       "    </tr>\n",
       "    <tr>\n",
       "      <th>3</th>\n",
       "      <td>6grquyrtlxnqr55jb4rsiw</td>\n",
       "      <td>5.43780</td>\n",
       "      <td>0.810068</td>\n",
       "      <td>1</td>\n",
       "    </tr>\n",
       "    <tr>\n",
       "      <th>4</th>\n",
       "      <td>1udc7zxodhgptvxp2ukeiq</td>\n",
       "      <td>5.40282</td>\n",
       "      <td>0.781129</td>\n",
       "      <td>1</td>\n",
       "    </tr>\n",
       "  </tbody>\n",
       "</table>\n",
       "</div>"
      ],
      "text/plain": [
       "                  photoId    value    value1  norm\n",
       "0  1ndsqzwmwpljk0mbowuoiq  5.66738  1.000000     1\n",
       "1  6uyz5nitzeryfdpfr6vndg  5.56584  0.915996     1\n",
       "2  0jwi76tjv-szxrzh2u0eca  5.45679  0.825779     1\n",
       "3  6grquyrtlxnqr55jb4rsiw  5.43780  0.810068     1\n",
       "4  1udc7zxodhgptvxp2ukeiq  5.40282  0.781129     1"
      ]
     },
     "execution_count": 14,
     "metadata": {},
     "output_type": "execute_result"
    }
   ],
   "source": [
    "data.head()"
   ]
  },
  {
   "cell_type": "code",
   "execution_count": 15,
   "metadata": {},
   "outputs": [],
   "source": [
    "data.to_csv(\"finalTestNima.csv\", index=False)"
   ]
  },
  {
   "cell_type": "code",
   "execution_count": 34,
   "metadata": {},
   "outputs": [],
   "source": [
    "photos = pd.read_csv(\"Final_sample_train_photos.csv\", engine=\"python\")"
   ]
  },
  {
   "cell_type": "code",
   "execution_count": 29,
   "metadata": {},
   "outputs": [
    {
     "data": {
      "text/html": [
       "<div>\n",
       "<style scoped>\n",
       "    .dataframe tbody tr th:only-of-type {\n",
       "        vertical-align: middle;\n",
       "    }\n",
       "\n",
       "    .dataframe tbody tr th {\n",
       "        vertical-align: top;\n",
       "    }\n",
       "\n",
       "    .dataframe thead th {\n",
       "        text-align: right;\n",
       "    }\n",
       "</style>\n",
       "<table border=\"1\" class=\"dataframe\">\n",
       "  <thead>\n",
       "    <tr style=\"text-align: right;\">\n",
       "      <th></th>\n",
       "      <th>Unnamed: 0</th>\n",
       "      <th>business_id</th>\n",
       "      <th>caption</th>\n",
       "      <th>label</th>\n",
       "      <th>photo_id</th>\n",
       "    </tr>\n",
       "  </thead>\n",
       "  <tbody>\n",
       "    <tr>\n",
       "      <th>0</th>\n",
       "      <td>31</td>\n",
       "      <td>1xEFOt8ArF0k4cpqWUk9gg</td>\n",
       "      <td>McDonald's World Famous Fries®</td>\n",
       "      <td>food</td>\n",
       "      <td>tTc1_lliqXaLQS46wF4-Vw</td>\n",
       "    </tr>\n",
       "    <tr>\n",
       "      <th>1</th>\n",
       "      <td>32</td>\n",
       "      <td>1xEFOt8ArF0k4cpqWUk9gg</td>\n",
       "      <td>McDonald's Big Mac® Extra Value Meal</td>\n",
       "      <td>food</td>\n",
       "      <td>D8eaPRSCMJIXeOgLE8lRxw</td>\n",
       "    </tr>\n",
       "    <tr>\n",
       "      <th>2</th>\n",
       "      <td>33</td>\n",
       "      <td>1xEFOt8ArF0k4cpqWUk9gg</td>\n",
       "      <td>McDonald's All Day Breakfast Sandwiches</td>\n",
       "      <td>food</td>\n",
       "      <td>K08R8-9y7YxgLDW6ZGWLqQ</td>\n",
       "    </tr>\n",
       "    <tr>\n",
       "      <th>3</th>\n",
       "      <td>34</td>\n",
       "      <td>1xEFOt8ArF0k4cpqWUk9gg</td>\n",
       "      <td>McDonald's Chicken McNuggets®</td>\n",
       "      <td>food</td>\n",
       "      <td>VZnjMz0F1qDgeT2XvGzpDA</td>\n",
       "    </tr>\n",
       "    <tr>\n",
       "      <th>4</th>\n",
       "      <td>35</td>\n",
       "      <td>1xEFOt8ArF0k4cpqWUk9gg</td>\n",
       "      <td>McDonald's Quarter Pounder with Cheese Extra V...</td>\n",
       "      <td>food</td>\n",
       "      <td>BA7Rlmqa3ZMY2w8vVErI1A</td>\n",
       "    </tr>\n",
       "  </tbody>\n",
       "</table>\n",
       "</div>"
      ],
      "text/plain": [
       "  Unnamed: 0             business_id  \\\n",
       "0         31  1xEFOt8ArF0k4cpqWUk9gg   \n",
       "1         32  1xEFOt8ArF0k4cpqWUk9gg   \n",
       "2         33  1xEFOt8ArF0k4cpqWUk9gg   \n",
       "3         34  1xEFOt8ArF0k4cpqWUk9gg   \n",
       "4         35  1xEFOt8ArF0k4cpqWUk9gg   \n",
       "\n",
       "                                             caption label  \\\n",
       "0                     McDonald's World Famous Fries®  food   \n",
       "1               McDonald's Big Mac® Extra Value Meal  food   \n",
       "2            McDonald's All Day Breakfast Sandwiches  food   \n",
       "3                      McDonald's Chicken McNuggets®  food   \n",
       "4  McDonald's Quarter Pounder with Cheese Extra V...  food   \n",
       "\n",
       "                 photo_id  \n",
       "0  tTc1_lliqXaLQS46wF4-Vw  \n",
       "1  D8eaPRSCMJIXeOgLE8lRxw  \n",
       "2  K08R8-9y7YxgLDW6ZGWLqQ  \n",
       "3  VZnjMz0F1qDgeT2XvGzpDA  \n",
       "4  BA7Rlmqa3ZMY2w8vVErI1A  "
      ]
     },
     "execution_count": 29,
     "metadata": {},
     "output_type": "execute_result"
    }
   ],
   "source": [
    "photos.head()"
   ]
  },
  {
   "cell_type": "code",
   "execution_count": 35,
   "metadata": {},
   "outputs": [
    {
     "data": {
      "text/plain": [
       "(13405, 5)"
      ]
     },
     "execution_count": 35,
     "metadata": {},
     "output_type": "execute_result"
    }
   ],
   "source": [
    "photos.shape"
   ]
  },
  {
   "cell_type": "code",
   "execution_count": 30,
   "metadata": {},
   "outputs": [],
   "source": [
    "photos['photoId'] = photos['photo_id'].str.lower()"
   ]
  },
  {
   "cell_type": "code",
   "execution_count": 31,
   "metadata": {},
   "outputs": [],
   "source": [
    "mer = pd.merge(data, photos, on='photoId')"
   ]
  },
  {
   "cell_type": "code",
   "execution_count": 32,
   "metadata": {},
   "outputs": [
    {
     "data": {
      "text/plain": [
       "(13399, 9)"
      ]
     },
     "execution_count": 32,
     "metadata": {},
     "output_type": "execute_result"
    }
   ],
   "source": [
    "mer.shape"
   ]
  },
  {
   "cell_type": "code",
   "execution_count": 38,
   "metadata": {},
   "outputs": [
    {
     "data": {
      "text/plain": [
       "photoId         object\n",
       "value          float64\n",
       "value1         float64\n",
       "norm             int64\n",
       "Unnamed: 0      object\n",
       "business_id     object\n",
       "caption         object\n",
       "label           object\n",
       "photo_id        object\n",
       "dtype: object"
      ]
     },
     "execution_count": 38,
     "metadata": {},
     "output_type": "execute_result"
    }
   ],
   "source": [
    "mer.dtypes"
   ]
  },
  {
   "cell_type": "code",
   "execution_count": 39,
   "metadata": {},
   "outputs": [
    {
     "data": {
      "text/plain": [
       "3396"
      ]
     },
     "execution_count": 39,
     "metadata": {},
     "output_type": "execute_result"
    }
   ],
   "source": [
    "sum(mer['norm']==0)"
   ]
  },
  {
   "cell_type": "code",
   "execution_count": 40,
   "metadata": {},
   "outputs": [],
   "source": [
    "mer.to_csv(\"New_Train_Bad_Nima.csv\", index=False)"
   ]
  },
  {
   "cell_type": "code",
   "execution_count": 31,
   "metadata": {},
   "outputs": [],
   "source": [
    "df.to_csv(\"trainLabelsVGG.csv\")"
   ]
  },
  {
   "cell_type": "code",
   "execution_count": 40,
   "metadata": {},
   "outputs": [],
   "source": [
    "df = pd.merge(data, clarifai, on=\"photoId\")\n"
   ]
  },
  {
   "cell_type": "code",
   "execution_count": 41,
   "metadata": {},
   "outputs": [
    {
     "data": {
      "text/html": [
       "<div>\n",
       "<style scoped>\n",
       "    .dataframe tbody tr th:only-of-type {\n",
       "        vertical-align: middle;\n",
       "    }\n",
       "\n",
       "    .dataframe tbody tr th {\n",
       "        vertical-align: top;\n",
       "    }\n",
       "\n",
       "    .dataframe thead th {\n",
       "        text-align: right;\n",
       "    }\n",
       "</style>\n",
       "<table border=\"1\" class=\"dataframe\">\n",
       "  <thead>\n",
       "    <tr style=\"text-align: right;\">\n",
       "      <th></th>\n",
       "      <th>photoId</th>\n",
       "      <th>value</th>\n",
       "      <th>value1</th>\n",
       "      <th>norm</th>\n",
       "      <th>prob</th>\n",
       "      <th>photoIdOrig</th>\n",
       "    </tr>\n",
       "  </thead>\n",
       "  <tbody>\n",
       "    <tr>\n",
       "      <th>0</th>\n",
       "      <td>lm8n-ddgwgz8sgbuvkz9uw</td>\n",
       "      <td>5.94856</td>\n",
       "      <td>1.000000</td>\n",
       "      <td>1</td>\n",
       "      <td>0.959176</td>\n",
       "      <td>LM8N-DdGwgz8sGBuVkZ9uw</td>\n",
       "    </tr>\n",
       "    <tr>\n",
       "      <th>1</th>\n",
       "      <td>b0djwv7ocgknejww3roqsa</td>\n",
       "      <td>5.94517</td>\n",
       "      <td>0.998411</td>\n",
       "      <td>1</td>\n",
       "      <td>0.000000</td>\n",
       "      <td>b0dJWV7OcGkNEjWw3rOqsA</td>\n",
       "    </tr>\n",
       "    <tr>\n",
       "      <th>2</th>\n",
       "      <td>qpfwxx8xosp44smhc-rbfg</td>\n",
       "      <td>5.86847</td>\n",
       "      <td>0.962469</td>\n",
       "      <td>1</td>\n",
       "      <td>0.000000</td>\n",
       "      <td>qPfWXx8xOSp44sMhc-Rbfg</td>\n",
       "    </tr>\n",
       "    <tr>\n",
       "      <th>3</th>\n",
       "      <td>06vyjxhn0evriihjlwsx0g</td>\n",
       "      <td>5.85913</td>\n",
       "      <td>0.958092</td>\n",
       "      <td>1</td>\n",
       "      <td>0.981467</td>\n",
       "      <td>06vyJxHn0EvRiiHJlWsx0g</td>\n",
       "    </tr>\n",
       "    <tr>\n",
       "      <th>4</th>\n",
       "      <td>xzwmzemw6aqsxg9fmxbzcw</td>\n",
       "      <td>5.83328</td>\n",
       "      <td>0.945978</td>\n",
       "      <td>1</td>\n",
       "      <td>0.834157</td>\n",
       "      <td>XZWmzEMW6aQsXg9FmXBZcw</td>\n",
       "    </tr>\n",
       "  </tbody>\n",
       "</table>\n",
       "</div>"
      ],
      "text/plain": [
       "                  photoId    value    value1  norm      prob  \\\n",
       "0  lm8n-ddgwgz8sgbuvkz9uw  5.94856  1.000000     1  0.959176   \n",
       "1  b0djwv7ocgknejww3roqsa  5.94517  0.998411     1  0.000000   \n",
       "2  qpfwxx8xosp44smhc-rbfg  5.86847  0.962469     1  0.000000   \n",
       "3  06vyjxhn0evriihjlwsx0g  5.85913  0.958092     1  0.981467   \n",
       "4  xzwmzemw6aqsxg9fmxbzcw  5.83328  0.945978     1  0.834157   \n",
       "\n",
       "              photoIdOrig  \n",
       "0  LM8N-DdGwgz8sGBuVkZ9uw  \n",
       "1  b0dJWV7OcGkNEjWw3rOqsA  \n",
       "2  qPfWXx8xOSp44sMhc-Rbfg  \n",
       "3  06vyJxHn0EvRiiHJlWsx0g  \n",
       "4  XZWmzEMW6aQsXg9FmXBZcw  "
      ]
     },
     "execution_count": 41,
     "metadata": {},
     "output_type": "execute_result"
    }
   ],
   "source": [
    "df.head()"
   ]
  },
  {
   "cell_type": "code",
   "execution_count": 42,
   "metadata": {},
   "outputs": [],
   "source": [
    "df.to_csv(\"TrainNima.csv\")"
   ]
  },
  {
   "cell_type": "code",
   "execution_count": 14,
   "metadata": {},
   "outputs": [],
   "source": [
    "x = df['value'].values.reshape(-1, 1) #returns a numpy array\n",
    "min_max_scaler = preprocessing.MinMaxScaler()\n",
    "x_scaled = min_max_scaler.fit_transform(x)\n",
    "df['value1'] = x_scaled.reshape(-1, 1)"
   ]
  },
  {
   "cell_type": "code",
   "execution_count": 280,
   "metadata": {},
   "outputs": [
    {
     "data": {
      "text/html": [
       "<div>\n",
       "<style scoped>\n",
       "    .dataframe tbody tr th:only-of-type {\n",
       "        vertical-align: middle;\n",
       "    }\n",
       "\n",
       "    .dataframe tbody tr th {\n",
       "        vertical-align: top;\n",
       "    }\n",
       "\n",
       "    .dataframe thead th {\n",
       "        text-align: right;\n",
       "    }\n",
       "</style>\n",
       "<table border=\"1\" class=\"dataframe\">\n",
       "  <thead>\n",
       "    <tr style=\"text-align: right;\">\n",
       "      <th></th>\n",
       "      <th>photoId</th>\n",
       "      <th>value</th>\n",
       "      <th>prob</th>\n",
       "      <th>label</th>\n",
       "      <th>photoIdOrig</th>\n",
       "    </tr>\n",
       "  </thead>\n",
       "  <tbody>\n",
       "    <tr>\n",
       "      <th>0</th>\n",
       "      <td>lm8n-ddgwgz8sgbuvkz9uw</td>\n",
       "      <td>1.000000</td>\n",
       "      <td>0.959176</td>\n",
       "      <td>1</td>\n",
       "      <td>LM8N-DdGwgz8sGBuVkZ9uw</td>\n",
       "    </tr>\n",
       "    <tr>\n",
       "      <th>1</th>\n",
       "      <td>b0djwv7ocgknejww3roqsa</td>\n",
       "      <td>0.998411</td>\n",
       "      <td>0.000000</td>\n",
       "      <td>0</td>\n",
       "      <td>b0dJWV7OcGkNEjWw3rOqsA</td>\n",
       "    </tr>\n",
       "    <tr>\n",
       "      <th>2</th>\n",
       "      <td>qpfwxx8xosp44smhc-rbfg</td>\n",
       "      <td>0.962469</td>\n",
       "      <td>0.000000</td>\n",
       "      <td>0</td>\n",
       "      <td>qPfWXx8xOSp44sMhc-Rbfg</td>\n",
       "    </tr>\n",
       "    <tr>\n",
       "      <th>3</th>\n",
       "      <td>06vyjxhn0evriihjlwsx0g</td>\n",
       "      <td>0.958092</td>\n",
       "      <td>0.981467</td>\n",
       "      <td>1</td>\n",
       "      <td>06vyJxHn0EvRiiHJlWsx0g</td>\n",
       "    </tr>\n",
       "    <tr>\n",
       "      <th>4</th>\n",
       "      <td>xzwmzemw6aqsxg9fmxbzcw</td>\n",
       "      <td>0.945978</td>\n",
       "      <td>0.834157</td>\n",
       "      <td>1</td>\n",
       "      <td>XZWmzEMW6aQsXg9FmXBZcw</td>\n",
       "    </tr>\n",
       "  </tbody>\n",
       "</table>\n",
       "</div>"
      ],
      "text/plain": [
       "                  photoId     value      prob  label             photoIdOrig\n",
       "0  lm8n-ddgwgz8sgbuvkz9uw  1.000000  0.959176      1  LM8N-DdGwgz8sGBuVkZ9uw\n",
       "1  b0djwv7ocgknejww3roqsa  0.998411  0.000000      0  b0dJWV7OcGkNEjWw3rOqsA\n",
       "2  qpfwxx8xosp44smhc-rbfg  0.962469  0.000000      0  qPfWXx8xOSp44sMhc-Rbfg\n",
       "3  06vyjxhn0evriihjlwsx0g  0.958092  0.981467      1  06vyJxHn0EvRiiHJlWsx0g\n",
       "4  xzwmzemw6aqsxg9fmxbzcw  0.945978  0.834157      1  XZWmzEMW6aQsXg9FmXBZcw"
      ]
     },
     "execution_count": 280,
     "metadata": {},
     "output_type": "execute_result"
    }
   ],
   "source": [
    "df.head()"
   ]
  },
  {
   "cell_type": "code",
   "execution_count": 15,
   "metadata": {},
   "outputs": [],
   "source": [
    "df['norm'] = np.where(((df['value1']>=0.5) & (df['label']==1)), 1, 0)\n"
   ]
  },
  {
   "cell_type": "code",
   "execution_count": 282,
   "metadata": {},
   "outputs": [
    {
     "data": {
      "text/html": [
       "<div>\n",
       "<style scoped>\n",
       "    .dataframe tbody tr th:only-of-type {\n",
       "        vertical-align: middle;\n",
       "    }\n",
       "\n",
       "    .dataframe tbody tr th {\n",
       "        vertical-align: top;\n",
       "    }\n",
       "\n",
       "    .dataframe thead th {\n",
       "        text-align: right;\n",
       "    }\n",
       "</style>\n",
       "<table border=\"1\" class=\"dataframe\">\n",
       "  <thead>\n",
       "    <tr style=\"text-align: right;\">\n",
       "      <th></th>\n",
       "      <th>photoId</th>\n",
       "      <th>value</th>\n",
       "      <th>prob</th>\n",
       "      <th>label</th>\n",
       "      <th>photoIdOrig</th>\n",
       "      <th>norm</th>\n",
       "    </tr>\n",
       "  </thead>\n",
       "  <tbody>\n",
       "    <tr>\n",
       "      <th>0</th>\n",
       "      <td>lm8n-ddgwgz8sgbuvkz9uw</td>\n",
       "      <td>1.000000</td>\n",
       "      <td>0.959176</td>\n",
       "      <td>1</td>\n",
       "      <td>LM8N-DdGwgz8sGBuVkZ9uw</td>\n",
       "      <td>1</td>\n",
       "    </tr>\n",
       "    <tr>\n",
       "      <th>1</th>\n",
       "      <td>b0djwv7ocgknejww3roqsa</td>\n",
       "      <td>0.998411</td>\n",
       "      <td>0.000000</td>\n",
       "      <td>0</td>\n",
       "      <td>b0dJWV7OcGkNEjWw3rOqsA</td>\n",
       "      <td>0</td>\n",
       "    </tr>\n",
       "    <tr>\n",
       "      <th>2</th>\n",
       "      <td>qpfwxx8xosp44smhc-rbfg</td>\n",
       "      <td>0.962469</td>\n",
       "      <td>0.000000</td>\n",
       "      <td>0</td>\n",
       "      <td>qPfWXx8xOSp44sMhc-Rbfg</td>\n",
       "      <td>0</td>\n",
       "    </tr>\n",
       "    <tr>\n",
       "      <th>3</th>\n",
       "      <td>06vyjxhn0evriihjlwsx0g</td>\n",
       "      <td>0.958092</td>\n",
       "      <td>0.981467</td>\n",
       "      <td>1</td>\n",
       "      <td>06vyJxHn0EvRiiHJlWsx0g</td>\n",
       "      <td>1</td>\n",
       "    </tr>\n",
       "    <tr>\n",
       "      <th>4</th>\n",
       "      <td>xzwmzemw6aqsxg9fmxbzcw</td>\n",
       "      <td>0.945978</td>\n",
       "      <td>0.834157</td>\n",
       "      <td>1</td>\n",
       "      <td>XZWmzEMW6aQsXg9FmXBZcw</td>\n",
       "      <td>1</td>\n",
       "    </tr>\n",
       "  </tbody>\n",
       "</table>\n",
       "</div>"
      ],
      "text/plain": [
       "                  photoId     value      prob  label             photoIdOrig  \\\n",
       "0  lm8n-ddgwgz8sgbuvkz9uw  1.000000  0.959176      1  LM8N-DdGwgz8sGBuVkZ9uw   \n",
       "1  b0djwv7ocgknejww3roqsa  0.998411  0.000000      0  b0dJWV7OcGkNEjWw3rOqsA   \n",
       "2  qpfwxx8xosp44smhc-rbfg  0.962469  0.000000      0  qPfWXx8xOSp44sMhc-Rbfg   \n",
       "3  06vyjxhn0evriihjlwsx0g  0.958092  0.981467      1  06vyJxHn0EvRiiHJlWsx0g   \n",
       "4  xzwmzemw6aqsxg9fmxbzcw  0.945978  0.834157      1  XZWmzEMW6aQsXg9FmXBZcw   \n",
       "\n",
       "   norm  \n",
       "0     1  \n",
       "1     0  \n",
       "2     0  \n",
       "3     1  \n",
       "4     1  "
      ]
     },
     "execution_count": 282,
     "metadata": {},
     "output_type": "execute_result"
    }
   ],
   "source": [
    "df.head()"
   ]
  },
  {
   "cell_type": "code",
   "execution_count": 283,
   "metadata": {},
   "outputs": [
    {
     "data": {
      "text/html": [
       "<div>\n",
       "<style scoped>\n",
       "    .dataframe tbody tr th:only-of-type {\n",
       "        vertical-align: middle;\n",
       "    }\n",
       "\n",
       "    .dataframe tbody tr th {\n",
       "        vertical-align: top;\n",
       "    }\n",
       "\n",
       "    .dataframe thead th {\n",
       "        text-align: right;\n",
       "    }\n",
       "</style>\n",
       "<table border=\"1\" class=\"dataframe\">\n",
       "  <thead>\n",
       "    <tr style=\"text-align: right;\">\n",
       "      <th></th>\n",
       "      <th>photoId</th>\n",
       "      <th>value</th>\n",
       "      <th>prob</th>\n",
       "      <th>label</th>\n",
       "      <th>photoIdOrig</th>\n",
       "      <th>norm</th>\n",
       "    </tr>\n",
       "  </thead>\n",
       "  <tbody>\n",
       "    <tr>\n",
       "      <th>2790</th>\n",
       "      <td>vxvxfckbxygtnlbgadcqxw</td>\n",
       "      <td>0.241946</td>\n",
       "      <td>0.997167</td>\n",
       "      <td>1</td>\n",
       "      <td>vxVXfcKbxYGtnlBgaDCQxw</td>\n",
       "      <td>0</td>\n",
       "    </tr>\n",
       "    <tr>\n",
       "      <th>2791</th>\n",
       "      <td>j3lam34rlr9q8eif63n4tq</td>\n",
       "      <td>0.217653</td>\n",
       "      <td>0.997134</td>\n",
       "      <td>1</td>\n",
       "      <td>j3LaM34Rlr9q8EIF63N4tQ</td>\n",
       "      <td>0</td>\n",
       "    </tr>\n",
       "    <tr>\n",
       "      <th>2792</th>\n",
       "      <td>ogi2ac7dbwhdtt_lrxnx_a</td>\n",
       "      <td>0.160383</td>\n",
       "      <td>0.987904</td>\n",
       "      <td>1</td>\n",
       "      <td>OgI2AC7dBWhdTt_lrxNx_A</td>\n",
       "      <td>0</td>\n",
       "    </tr>\n",
       "    <tr>\n",
       "      <th>2793</th>\n",
       "      <td>gdxfxkymlmjkcxs31uukpa</td>\n",
       "      <td>0.078835</td>\n",
       "      <td>0.955873</td>\n",
       "      <td>1</td>\n",
       "      <td>GdxfxkymLMjkcxs31UuKpA</td>\n",
       "      <td>0</td>\n",
       "    </tr>\n",
       "    <tr>\n",
       "      <th>2794</th>\n",
       "      <td>qidlflkhdevmimfhale14w</td>\n",
       "      <td>0.000000</td>\n",
       "      <td>0.000000</td>\n",
       "      <td>0</td>\n",
       "      <td>qidlflKhdevMImfHalE14w</td>\n",
       "      <td>0</td>\n",
       "    </tr>\n",
       "  </tbody>\n",
       "</table>\n",
       "</div>"
      ],
      "text/plain": [
       "                     photoId     value      prob  label  \\\n",
       "2790  vxvxfckbxygtnlbgadcqxw  0.241946  0.997167      1   \n",
       "2791  j3lam34rlr9q8eif63n4tq  0.217653  0.997134      1   \n",
       "2792  ogi2ac7dbwhdtt_lrxnx_a  0.160383  0.987904      1   \n",
       "2793  gdxfxkymlmjkcxs31uukpa  0.078835  0.955873      1   \n",
       "2794  qidlflkhdevmimfhale14w  0.000000  0.000000      0   \n",
       "\n",
       "                 photoIdOrig  norm  \n",
       "2790  vxVXfcKbxYGtnlBgaDCQxw     0  \n",
       "2791  j3LaM34Rlr9q8EIF63N4tQ     0  \n",
       "2792  OgI2AC7dBWhdTt_lrxNx_A     0  \n",
       "2793  GdxfxkymLMjkcxs31UuKpA     0  \n",
       "2794  qidlflKhdevMImfHalE14w     0  "
      ]
     },
     "execution_count": 283,
     "metadata": {},
     "output_type": "execute_result"
    }
   ],
   "source": [
    "df.tail()"
   ]
  },
  {
   "cell_type": "code",
   "execution_count": 284,
   "metadata": {},
   "outputs": [],
   "source": [
    "df = df.drop(df.columns[0], axis=1)\n"
   ]
  },
  {
   "cell_type": "code",
   "execution_count": 285,
   "metadata": {},
   "outputs": [],
   "source": [
    "df = df.drop(df.columns[0], axis=1)\n"
   ]
  },
  {
   "cell_type": "code",
   "execution_count": 286,
   "metadata": {},
   "outputs": [],
   "source": [
    "df = df.drop(df.columns[0], axis=1)\n"
   ]
  },
  {
   "cell_type": "code",
   "execution_count": 287,
   "metadata": {},
   "outputs": [],
   "source": [
    "df = df.drop(df.columns[0], axis=1)\n"
   ]
  },
  {
   "cell_type": "code",
   "execution_count": 288,
   "metadata": {},
   "outputs": [],
   "source": [
    "df2 = df"
   ]
  },
  {
   "cell_type": "code",
   "execution_count": 289,
   "metadata": {},
   "outputs": [],
   "source": [
    "df.rename(columns={'photoOrig': 'photo_id', 'norm': 'good'}, inplace=True)\n"
   ]
  },
  {
   "cell_type": "code",
   "execution_count": 16,
   "metadata": {},
   "outputs": [],
   "source": [
    "df.to_csv(\"outAlex1.csv\")"
   ]
  },
  {
   "cell_type": "code",
   "execution_count": 291,
   "metadata": {},
   "outputs": [
    {
     "data": {
      "text/plain": [
       "1658"
      ]
     },
     "execution_count": 291,
     "metadata": {},
     "output_type": "execute_result"
    }
   ],
   "source": [
    "np.sum(df['good']==1)"
   ]
  },
  {
   "cell_type": "code",
   "execution_count": 292,
   "metadata": {},
   "outputs": [
    {
     "data": {
      "text/plain": [
       "1137"
      ]
     },
     "execution_count": 292,
     "metadata": {},
     "output_type": "execute_result"
    }
   ],
   "source": [
    "np.sum(df['good']==0)"
   ]
  },
  {
   "cell_type": "code",
   "execution_count": 239,
   "metadata": {},
   "outputs": [],
   "source": [
    "df1 = pd.read_csv('labeledDataset.csv', sep=\",\")\n"
   ]
  },
  {
   "cell_type": "code",
   "execution_count": 240,
   "metadata": {},
   "outputs": [
    {
     "data": {
      "text/plain": [
       "(502, 7)"
      ]
     },
     "execution_count": 240,
     "metadata": {},
     "output_type": "execute_result"
    }
   ],
   "source": [
    "df1.shape"
   ]
  },
  {
   "cell_type": "code",
   "execution_count": 241,
   "metadata": {},
   "outputs": [
    {
     "data": {
      "text/html": [
       "<div>\n",
       "<style scoped>\n",
       "    .dataframe tbody tr th:only-of-type {\n",
       "        vertical-align: middle;\n",
       "    }\n",
       "\n",
       "    .dataframe tbody tr th {\n",
       "        vertical-align: top;\n",
       "    }\n",
       "\n",
       "    .dataframe thead th {\n",
       "        text-align: right;\n",
       "    }\n",
       "</style>\n",
       "<table border=\"1\" class=\"dataframe\">\n",
       "  <thead>\n",
       "    <tr style=\"text-align: right;\">\n",
       "      <th></th>\n",
       "      <th>sno</th>\n",
       "      <th>photoId</th>\n",
       "      <th>businessId</th>\n",
       "      <th>caption</th>\n",
       "      <th>label</th>\n",
       "      <th>good</th>\n",
       "      <th>useful</th>\n",
       "    </tr>\n",
       "  </thead>\n",
       "  <tbody>\n",
       "    <tr>\n",
       "      <th>0</th>\n",
       "      <td>1124</td>\n",
       "      <td>_15wZGb3QONopTo5yiZ8Rg</td>\n",
       "      <td>ZDDzKXN_JXe7694zePRuTQ</td>\n",
       "      <td>Seating</td>\n",
       "      <td>inside</td>\n",
       "      <td>0</td>\n",
       "      <td>0.0</td>\n",
       "    </tr>\n",
       "    <tr>\n",
       "      <th>1</th>\n",
       "      <td>1142</td>\n",
       "      <td>_80kyh9A5cFNG-RwwDR6iA</td>\n",
       "      <td>1qwkbN3wu3AGDxMTXVz2gA</td>\n",
       "      <td>Sunset from the front door</td>\n",
       "      <td>outside</td>\n",
       "      <td>0</td>\n",
       "      <td>0.0</td>\n",
       "    </tr>\n",
       "    <tr>\n",
       "      <th>2</th>\n",
       "      <td>1177</td>\n",
       "      <td>_8B40xRtabQop1QXbpGTtA</td>\n",
       "      <td>TKp9PDs8jFbshfg6xOcM6A</td>\n",
       "      <td>NaN</td>\n",
       "      <td>food</td>\n",
       "      <td>1</td>\n",
       "      <td>1.0</td>\n",
       "    </tr>\n",
       "    <tr>\n",
       "      <th>3</th>\n",
       "      <td>1107</td>\n",
       "      <td>_8tN02g8wArjtdcu1e7Fnw</td>\n",
       "      <td>wPiRP76arN0NB3M1ZXXp7g</td>\n",
       "      <td>NaN</td>\n",
       "      <td>inside</td>\n",
       "      <td>0</td>\n",
       "      <td>0.0</td>\n",
       "    </tr>\n",
       "    <tr>\n",
       "      <th>4</th>\n",
       "      <td>576</td>\n",
       "      <td>_a1d3bupKZ0bzKyUAUmh9w</td>\n",
       "      <td>JhRxDdmZSGDG_u7cGxaYrw</td>\n",
       "      <td>NaN</td>\n",
       "      <td>outside</td>\n",
       "      <td>0</td>\n",
       "      <td>0.0</td>\n",
       "    </tr>\n",
       "  </tbody>\n",
       "</table>\n",
       "</div>"
      ],
      "text/plain": [
       "    sno                 photoId              businessId  \\\n",
       "0  1124  _15wZGb3QONopTo5yiZ8Rg  ZDDzKXN_JXe7694zePRuTQ   \n",
       "1  1142  _80kyh9A5cFNG-RwwDR6iA  1qwkbN3wu3AGDxMTXVz2gA   \n",
       "2  1177  _8B40xRtabQop1QXbpGTtA  TKp9PDs8jFbshfg6xOcM6A   \n",
       "3  1107  _8tN02g8wArjtdcu1e7Fnw  wPiRP76arN0NB3M1ZXXp7g   \n",
       "4   576  _a1d3bupKZ0bzKyUAUmh9w  JhRxDdmZSGDG_u7cGxaYrw   \n",
       "\n",
       "                      caption    label good  useful  \n",
       "0                     Seating   inside    0     0.0  \n",
       "1  Sunset from the front door  outside    0     0.0  \n",
       "2                         NaN     food    1     1.0  \n",
       "3                         NaN   inside    0     0.0  \n",
       "4                         NaN  outside    0     0.0  "
      ]
     },
     "execution_count": 241,
     "metadata": {},
     "output_type": "execute_result"
    }
   ],
   "source": [
    "df1.head()\n"
   ]
  },
  {
   "cell_type": "code",
   "execution_count": 242,
   "metadata": {},
   "outputs": [],
   "source": [
    "df1 = df1.drop(['sno'], axis=1)\n"
   ]
  },
  {
   "cell_type": "code",
   "execution_count": 243,
   "metadata": {},
   "outputs": [
    {
     "data": {
      "text/html": [
       "<div>\n",
       "<style scoped>\n",
       "    .dataframe tbody tr th:only-of-type {\n",
       "        vertical-align: middle;\n",
       "    }\n",
       "\n",
       "    .dataframe tbody tr th {\n",
       "        vertical-align: top;\n",
       "    }\n",
       "\n",
       "    .dataframe thead th {\n",
       "        text-align: right;\n",
       "    }\n",
       "</style>\n",
       "<table border=\"1\" class=\"dataframe\">\n",
       "  <thead>\n",
       "    <tr style=\"text-align: right;\">\n",
       "      <th></th>\n",
       "      <th>photoId</th>\n",
       "      <th>businessId</th>\n",
       "      <th>caption</th>\n",
       "      <th>label</th>\n",
       "      <th>good</th>\n",
       "      <th>useful</th>\n",
       "    </tr>\n",
       "  </thead>\n",
       "  <tbody>\n",
       "    <tr>\n",
       "      <th>0</th>\n",
       "      <td>_15wZGb3QONopTo5yiZ8Rg</td>\n",
       "      <td>ZDDzKXN_JXe7694zePRuTQ</td>\n",
       "      <td>Seating</td>\n",
       "      <td>inside</td>\n",
       "      <td>0</td>\n",
       "      <td>0.0</td>\n",
       "    </tr>\n",
       "    <tr>\n",
       "      <th>1</th>\n",
       "      <td>_80kyh9A5cFNG-RwwDR6iA</td>\n",
       "      <td>1qwkbN3wu3AGDxMTXVz2gA</td>\n",
       "      <td>Sunset from the front door</td>\n",
       "      <td>outside</td>\n",
       "      <td>0</td>\n",
       "      <td>0.0</td>\n",
       "    </tr>\n",
       "    <tr>\n",
       "      <th>2</th>\n",
       "      <td>_8B40xRtabQop1QXbpGTtA</td>\n",
       "      <td>TKp9PDs8jFbshfg6xOcM6A</td>\n",
       "      <td>NaN</td>\n",
       "      <td>food</td>\n",
       "      <td>1</td>\n",
       "      <td>1.0</td>\n",
       "    </tr>\n",
       "    <tr>\n",
       "      <th>3</th>\n",
       "      <td>_8tN02g8wArjtdcu1e7Fnw</td>\n",
       "      <td>wPiRP76arN0NB3M1ZXXp7g</td>\n",
       "      <td>NaN</td>\n",
       "      <td>inside</td>\n",
       "      <td>0</td>\n",
       "      <td>0.0</td>\n",
       "    </tr>\n",
       "    <tr>\n",
       "      <th>4</th>\n",
       "      <td>_a1d3bupKZ0bzKyUAUmh9w</td>\n",
       "      <td>JhRxDdmZSGDG_u7cGxaYrw</td>\n",
       "      <td>NaN</td>\n",
       "      <td>outside</td>\n",
       "      <td>0</td>\n",
       "      <td>0.0</td>\n",
       "    </tr>\n",
       "  </tbody>\n",
       "</table>\n",
       "</div>"
      ],
      "text/plain": [
       "                  photoId              businessId                     caption  \\\n",
       "0  _15wZGb3QONopTo5yiZ8Rg  ZDDzKXN_JXe7694zePRuTQ                     Seating   \n",
       "1  _80kyh9A5cFNG-RwwDR6iA  1qwkbN3wu3AGDxMTXVz2gA  Sunset from the front door   \n",
       "2  _8B40xRtabQop1QXbpGTtA  TKp9PDs8jFbshfg6xOcM6A                         NaN   \n",
       "3  _8tN02g8wArjtdcu1e7Fnw  wPiRP76arN0NB3M1ZXXp7g                         NaN   \n",
       "4  _a1d3bupKZ0bzKyUAUmh9w  JhRxDdmZSGDG_u7cGxaYrw                         NaN   \n",
       "\n",
       "     label good  useful  \n",
       "0   inside    0     0.0  \n",
       "1  outside    0     0.0  \n",
       "2     food    1     1.0  \n",
       "3   inside    0     0.0  \n",
       "4  outside    0     0.0  "
      ]
     },
     "execution_count": 243,
     "metadata": {},
     "output_type": "execute_result"
    }
   ],
   "source": [
    "df1.head()\n"
   ]
  },
  {
   "cell_type": "code",
   "execution_count": 244,
   "metadata": {},
   "outputs": [
    {
     "data": {
      "text/plain": [
       "(502, 6)"
      ]
     },
     "execution_count": 244,
     "metadata": {},
     "output_type": "execute_result"
    }
   ],
   "source": [
    "df1.shape"
   ]
  },
  {
   "cell_type": "code",
   "execution_count": 245,
   "metadata": {},
   "outputs": [],
   "source": [
    "df1 = df1.drop_duplicates(subset='photoId', keep=\"last\")"
   ]
  },
  {
   "cell_type": "code",
   "execution_count": 246,
   "metadata": {},
   "outputs": [
    {
     "data": {
      "text/plain": [
       "(482, 6)"
      ]
     },
     "execution_count": 246,
     "metadata": {},
     "output_type": "execute_result"
    }
   ],
   "source": [
    "df1.shape"
   ]
  },
  {
   "cell_type": "code",
   "execution_count": 247,
   "metadata": {},
   "outputs": [],
   "source": [
    "df1['photoIdOrig'] = df1['photoId']\n",
    "# df1['photoId'] = df1['photoId'].str.lower()"
   ]
  },
  {
   "cell_type": "code",
   "execution_count": 248,
   "metadata": {},
   "outputs": [
    {
     "data": {
      "text/html": [
       "<div>\n",
       "<style scoped>\n",
       "    .dataframe tbody tr th:only-of-type {\n",
       "        vertical-align: middle;\n",
       "    }\n",
       "\n",
       "    .dataframe tbody tr th {\n",
       "        vertical-align: top;\n",
       "    }\n",
       "\n",
       "    .dataframe thead th {\n",
       "        text-align: right;\n",
       "    }\n",
       "</style>\n",
       "<table border=\"1\" class=\"dataframe\">\n",
       "  <thead>\n",
       "    <tr style=\"text-align: right;\">\n",
       "      <th></th>\n",
       "      <th>photoId</th>\n",
       "      <th>businessId</th>\n",
       "      <th>caption</th>\n",
       "      <th>label</th>\n",
       "      <th>good</th>\n",
       "      <th>useful</th>\n",
       "      <th>photoIdOrig</th>\n",
       "    </tr>\n",
       "  </thead>\n",
       "  <tbody>\n",
       "    <tr>\n",
       "      <th>0</th>\n",
       "      <td>_15wZGb3QONopTo5yiZ8Rg</td>\n",
       "      <td>ZDDzKXN_JXe7694zePRuTQ</td>\n",
       "      <td>Seating</td>\n",
       "      <td>inside</td>\n",
       "      <td>0</td>\n",
       "      <td>0.0</td>\n",
       "      <td>_15wZGb3QONopTo5yiZ8Rg</td>\n",
       "    </tr>\n",
       "    <tr>\n",
       "      <th>1</th>\n",
       "      <td>_80kyh9A5cFNG-RwwDR6iA</td>\n",
       "      <td>1qwkbN3wu3AGDxMTXVz2gA</td>\n",
       "      <td>Sunset from the front door</td>\n",
       "      <td>outside</td>\n",
       "      <td>0</td>\n",
       "      <td>0.0</td>\n",
       "      <td>_80kyh9A5cFNG-RwwDR6iA</td>\n",
       "    </tr>\n",
       "    <tr>\n",
       "      <th>2</th>\n",
       "      <td>_8B40xRtabQop1QXbpGTtA</td>\n",
       "      <td>TKp9PDs8jFbshfg6xOcM6A</td>\n",
       "      <td>NaN</td>\n",
       "      <td>food</td>\n",
       "      <td>1</td>\n",
       "      <td>1.0</td>\n",
       "      <td>_8B40xRtabQop1QXbpGTtA</td>\n",
       "    </tr>\n",
       "    <tr>\n",
       "      <th>3</th>\n",
       "      <td>_8tN02g8wArjtdcu1e7Fnw</td>\n",
       "      <td>wPiRP76arN0NB3M1ZXXp7g</td>\n",
       "      <td>NaN</td>\n",
       "      <td>inside</td>\n",
       "      <td>0</td>\n",
       "      <td>0.0</td>\n",
       "      <td>_8tN02g8wArjtdcu1e7Fnw</td>\n",
       "    </tr>\n",
       "    <tr>\n",
       "      <th>4</th>\n",
       "      <td>_a1d3bupKZ0bzKyUAUmh9w</td>\n",
       "      <td>JhRxDdmZSGDG_u7cGxaYrw</td>\n",
       "      <td>NaN</td>\n",
       "      <td>outside</td>\n",
       "      <td>0</td>\n",
       "      <td>0.0</td>\n",
       "      <td>_a1d3bupKZ0bzKyUAUmh9w</td>\n",
       "    </tr>\n",
       "  </tbody>\n",
       "</table>\n",
       "</div>"
      ],
      "text/plain": [
       "                  photoId              businessId                     caption  \\\n",
       "0  _15wZGb3QONopTo5yiZ8Rg  ZDDzKXN_JXe7694zePRuTQ                     Seating   \n",
       "1  _80kyh9A5cFNG-RwwDR6iA  1qwkbN3wu3AGDxMTXVz2gA  Sunset from the front door   \n",
       "2  _8B40xRtabQop1QXbpGTtA  TKp9PDs8jFbshfg6xOcM6A                         NaN   \n",
       "3  _8tN02g8wArjtdcu1e7Fnw  wPiRP76arN0NB3M1ZXXp7g                         NaN   \n",
       "4  _a1d3bupKZ0bzKyUAUmh9w  JhRxDdmZSGDG_u7cGxaYrw                         NaN   \n",
       "\n",
       "     label good  useful             photoIdOrig  \n",
       "0   inside    0     0.0  _15wZGb3QONopTo5yiZ8Rg  \n",
       "1  outside    0     0.0  _80kyh9A5cFNG-RwwDR6iA  \n",
       "2     food    1     1.0  _8B40xRtabQop1QXbpGTtA  \n",
       "3   inside    0     0.0  _8tN02g8wArjtdcu1e7Fnw  \n",
       "4  outside    0     0.0  _a1d3bupKZ0bzKyUAUmh9w  "
      ]
     },
     "execution_count": 248,
     "metadata": {},
     "output_type": "execute_result"
    }
   ],
   "source": [
    "df1.head()"
   ]
  },
  {
   "cell_type": "code",
   "execution_count": 249,
   "metadata": {},
   "outputs": [],
   "source": [
    "df2.rename(columns={'good': 'norm'}, inplace=True)\n",
    "df = pd.merge(df1, df2, on=\"photoIdOrig\")\n"
   ]
  },
  {
   "cell_type": "code",
   "execution_count": 250,
   "metadata": {},
   "outputs": [
    {
     "data": {
      "text/html": [
       "<div>\n",
       "<style scoped>\n",
       "    .dataframe tbody tr th:only-of-type {\n",
       "        vertical-align: middle;\n",
       "    }\n",
       "\n",
       "    .dataframe tbody tr th {\n",
       "        vertical-align: top;\n",
       "    }\n",
       "\n",
       "    .dataframe thead th {\n",
       "        text-align: right;\n",
       "    }\n",
       "</style>\n",
       "<table border=\"1\" class=\"dataframe\">\n",
       "  <thead>\n",
       "    <tr style=\"text-align: right;\">\n",
       "      <th></th>\n",
       "      <th>photoId</th>\n",
       "      <th>businessId</th>\n",
       "      <th>caption</th>\n",
       "      <th>label</th>\n",
       "      <th>good</th>\n",
       "      <th>useful</th>\n",
       "      <th>photoIdOrig</th>\n",
       "      <th>norm</th>\n",
       "    </tr>\n",
       "  </thead>\n",
       "  <tbody>\n",
       "    <tr>\n",
       "      <th>0</th>\n",
       "      <td>_15wZGb3QONopTo5yiZ8Rg</td>\n",
       "      <td>ZDDzKXN_JXe7694zePRuTQ</td>\n",
       "      <td>Seating</td>\n",
       "      <td>inside</td>\n",
       "      <td>0</td>\n",
       "      <td>0.0</td>\n",
       "      <td>_15wZGb3QONopTo5yiZ8Rg</td>\n",
       "      <td>0</td>\n",
       "    </tr>\n",
       "    <tr>\n",
       "      <th>1</th>\n",
       "      <td>_80kyh9A5cFNG-RwwDR6iA</td>\n",
       "      <td>1qwkbN3wu3AGDxMTXVz2gA</td>\n",
       "      <td>Sunset from the front door</td>\n",
       "      <td>outside</td>\n",
       "      <td>0</td>\n",
       "      <td>0.0</td>\n",
       "      <td>_80kyh9A5cFNG-RwwDR6iA</td>\n",
       "      <td>0</td>\n",
       "    </tr>\n",
       "    <tr>\n",
       "      <th>2</th>\n",
       "      <td>_8B40xRtabQop1QXbpGTtA</td>\n",
       "      <td>TKp9PDs8jFbshfg6xOcM6A</td>\n",
       "      <td>NaN</td>\n",
       "      <td>food</td>\n",
       "      <td>1</td>\n",
       "      <td>1.0</td>\n",
       "      <td>_8B40xRtabQop1QXbpGTtA</td>\n",
       "      <td>1</td>\n",
       "    </tr>\n",
       "    <tr>\n",
       "      <th>3</th>\n",
       "      <td>_8tN02g8wArjtdcu1e7Fnw</td>\n",
       "      <td>wPiRP76arN0NB3M1ZXXp7g</td>\n",
       "      <td>NaN</td>\n",
       "      <td>inside</td>\n",
       "      <td>0</td>\n",
       "      <td>0.0</td>\n",
       "      <td>_8tN02g8wArjtdcu1e7Fnw</td>\n",
       "      <td>0</td>\n",
       "    </tr>\n",
       "    <tr>\n",
       "      <th>4</th>\n",
       "      <td>_a1d3bupKZ0bzKyUAUmh9w</td>\n",
       "      <td>JhRxDdmZSGDG_u7cGxaYrw</td>\n",
       "      <td>NaN</td>\n",
       "      <td>outside</td>\n",
       "      <td>0</td>\n",
       "      <td>0.0</td>\n",
       "      <td>_a1d3bupKZ0bzKyUAUmh9w</td>\n",
       "      <td>0</td>\n",
       "    </tr>\n",
       "  </tbody>\n",
       "</table>\n",
       "</div>"
      ],
      "text/plain": [
       "                  photoId              businessId                     caption  \\\n",
       "0  _15wZGb3QONopTo5yiZ8Rg  ZDDzKXN_JXe7694zePRuTQ                     Seating   \n",
       "1  _80kyh9A5cFNG-RwwDR6iA  1qwkbN3wu3AGDxMTXVz2gA  Sunset from the front door   \n",
       "2  _8B40xRtabQop1QXbpGTtA  TKp9PDs8jFbshfg6xOcM6A                         NaN   \n",
       "3  _8tN02g8wArjtdcu1e7Fnw  wPiRP76arN0NB3M1ZXXp7g                         NaN   \n",
       "4  _a1d3bupKZ0bzKyUAUmh9w  JhRxDdmZSGDG_u7cGxaYrw                         NaN   \n",
       "\n",
       "     label good  useful             photoIdOrig  norm  \n",
       "0   inside    0     0.0  _15wZGb3QONopTo5yiZ8Rg     0  \n",
       "1  outside    0     0.0  _80kyh9A5cFNG-RwwDR6iA     0  \n",
       "2     food    1     1.0  _8B40xRtabQop1QXbpGTtA     1  \n",
       "3   inside    0     0.0  _8tN02g8wArjtdcu1e7Fnw     0  \n",
       "4  outside    0     0.0  _a1d3bupKZ0bzKyUAUmh9w     0  "
      ]
     },
     "execution_count": 250,
     "metadata": {},
     "output_type": "execute_result"
    }
   ],
   "source": [
    "df.head()"
   ]
  },
  {
   "cell_type": "code",
   "execution_count": 251,
   "metadata": {},
   "outputs": [
    {
     "data": {
      "text/plain": [
       "(482, 8)"
      ]
     },
     "execution_count": 251,
     "metadata": {},
     "output_type": "execute_result"
    }
   ],
   "source": [
    "df.shape"
   ]
  },
  {
   "cell_type": "code",
   "execution_count": 256,
   "metadata": {},
   "outputs": [
    {
     "data": {
      "text/plain": [
       "photoId        object\n",
       "businessId     object\n",
       "caption        object\n",
       "label          object\n",
       "good           object\n",
       "useful         object\n",
       "photoIdOrig    object\n",
       "norm            int64\n",
       "dtype: object"
      ]
     },
     "execution_count": 256,
     "metadata": {},
     "output_type": "execute_result"
    }
   ],
   "source": [
    "df.dtypes"
   ]
  },
  {
   "cell_type": "code",
   "execution_count": 252,
   "metadata": {},
   "outputs": [],
   "source": [
    "df['useful'] = df['useful'].fillna(0).astype(int)"
   ]
  },
  {
   "cell_type": "code",
   "execution_count": 253,
   "metadata": {},
   "outputs": [],
   "source": [
    "df['useful'] = df['useful'].apply(str)"
   ]
  },
  {
   "cell_type": "code",
   "execution_count": 257,
   "metadata": {},
   "outputs": [],
   "source": [
    "df['norm'] = df['norm'].astype(str)"
   ]
  },
  {
   "cell_type": "code",
   "execution_count": 258,
   "metadata": {},
   "outputs": [
    {
     "name": "stdout",
     "output_type": "stream",
     "text": [
      "Both\n",
      "67.63485477178423\n",
      "31.95020746887967\n",
      "Both\n",
      "35.06224066390042\n",
      "26.556016597510375\n",
      "5.394190871369295\n"
     ]
    }
   ],
   "source": [
    "n = df.shape[0]\n",
    "\n",
    "print(\"Both\")\n",
    "print(np.sum((df['good']=='1') | (df['useful']=='1'))*100/n)\n",
    "print(np.sum((df['good']=='0') & (df['useful']=='0'))*100/n)\n",
    "print(\"Both\")\n",
    "tp = (np.sum(((df['norm']==df['good']) | (df['norm']==df['useful'])) & (df['norm']=='1'))*100)/n\n",
    "tn = (np.sum(((df['norm']==df['good']) & (df['norm']==df['useful'])) & (df['norm']=='0'))*100)/n\n",
    "print(tp)\n",
    "print(tn)\n",
    "#     print(tp+tn)\n",
    "fp = np.sum(((df['useful']=='0') & (df['good']=='0')) & (df['norm']=='1'))*100/n\n",
    "print(fp)"
   ]
  },
  {
   "cell_type": "code",
   "execution_count": 1,
   "metadata": {},
   "outputs": [
    {
     "data": {
      "text/plain": [
       "3277"
      ]
     },
     "execution_count": 1,
     "metadata": {},
     "output_type": "execute_result"
    }
   ],
   "source": [
    "2795+482"
   ]
  },
  {
   "cell_type": "code",
   "execution_count": 2,
   "metadata": {},
   "outputs": [
    {
     "data": {
      "text/plain": [
       "61.61825726141079"
      ]
     },
     "execution_count": 2,
     "metadata": {},
     "output_type": "execute_result"
    }
   ],
   "source": [
    "35.06224066390042+26.556016597510375"
   ]
  },
  {
   "cell_type": "code",
   "execution_count": 1,
   "metadata": {},
   "outputs": [],
   "source": [
    "import pandas as pd"
   ]
  },
  {
   "cell_type": "code",
   "execution_count": 2,
   "metadata": {},
   "outputs": [],
   "source": [
    "data = pd.read_csv('labeledTrain.txt', sep=\" \", header=None)\n",
    "data.columns = [\"no\", \"photoId\", \"semi\", \"score\", \"equal\", \"value\"]\n"
   ]
  },
  {
   "cell_type": "code",
   "execution_count": 3,
   "metadata": {},
   "outputs": [
    {
     "data": {
      "text/html": [
       "<div>\n",
       "<style scoped>\n",
       "    .dataframe tbody tr th:only-of-type {\n",
       "        vertical-align: middle;\n",
       "    }\n",
       "\n",
       "    .dataframe tbody tr th {\n",
       "        vertical-align: top;\n",
       "    }\n",
       "\n",
       "    .dataframe thead th {\n",
       "        text-align: right;\n",
       "    }\n",
       "</style>\n",
       "<table border=\"1\" class=\"dataframe\">\n",
       "  <thead>\n",
       "    <tr style=\"text-align: right;\">\n",
       "      <th></th>\n",
       "      <th>no</th>\n",
       "      <th>photoId</th>\n",
       "      <th>semi</th>\n",
       "      <th>score</th>\n",
       "      <th>equal</th>\n",
       "      <th>value</th>\n",
       "    </tr>\n",
       "  </thead>\n",
       "  <tbody>\n",
       "    <tr>\n",
       "      <th>0</th>\n",
       "      <td>1)</td>\n",
       "      <td>lm8n-ddgwgz8sgbuvkz9uw.jpg</td>\n",
       "      <td>:</td>\n",
       "      <td>Score</td>\n",
       "      <td>=</td>\n",
       "      <td>5.94856</td>\n",
       "    </tr>\n",
       "    <tr>\n",
       "      <th>1</th>\n",
       "      <td>2)</td>\n",
       "      <td>b0djwv7ocgknejww3roqsa.jpg</td>\n",
       "      <td>:</td>\n",
       "      <td>Score</td>\n",
       "      <td>=</td>\n",
       "      <td>5.94517</td>\n",
       "    </tr>\n",
       "    <tr>\n",
       "      <th>2</th>\n",
       "      <td>3)</td>\n",
       "      <td>qpfwxx8xosp44smhc-rbfg.jpg</td>\n",
       "      <td>:</td>\n",
       "      <td>Score</td>\n",
       "      <td>=</td>\n",
       "      <td>5.86847</td>\n",
       "    </tr>\n",
       "    <tr>\n",
       "      <th>3</th>\n",
       "      <td>4)</td>\n",
       "      <td>06vyjxhn0evriihjlwsx0g.jpg</td>\n",
       "      <td>:</td>\n",
       "      <td>Score</td>\n",
       "      <td>=</td>\n",
       "      <td>5.85913</td>\n",
       "    </tr>\n",
       "    <tr>\n",
       "      <th>4</th>\n",
       "      <td>5)</td>\n",
       "      <td>xzwmzemw6aqsxg9fmxbzcw.jpg</td>\n",
       "      <td>:</td>\n",
       "      <td>Score</td>\n",
       "      <td>=</td>\n",
       "      <td>5.83328</td>\n",
       "    </tr>\n",
       "  </tbody>\n",
       "</table>\n",
       "</div>"
      ],
      "text/plain": [
       "   no                     photoId semi  score equal    value\n",
       "0  1)  lm8n-ddgwgz8sgbuvkz9uw.jpg    :  Score     =  5.94856\n",
       "1  2)  b0djwv7ocgknejww3roqsa.jpg    :  Score     =  5.94517\n",
       "2  3)  qpfwxx8xosp44smhc-rbfg.jpg    :  Score     =  5.86847\n",
       "3  4)  06vyjxhn0evriihjlwsx0g.jpg    :  Score     =  5.85913\n",
       "4  5)  xzwmzemw6aqsxg9fmxbzcw.jpg    :  Score     =  5.83328"
      ]
     },
     "execution_count": 3,
     "metadata": {},
     "output_type": "execute_result"
    }
   ],
   "source": [
    "data.head()"
   ]
  },
  {
   "cell_type": "code",
   "execution_count": 4,
   "metadata": {},
   "outputs": [],
   "source": [
    "data = data.drop(['no', 'semi', 'score', 'equal'], axis=1)\n"
   ]
  },
  {
   "cell_type": "code",
   "execution_count": null,
   "metadata": {},
   "outputs": [],
   "source": []
  }
 ],
 "metadata": {
  "kernelspec": {
   "display_name": "Python 3",
   "language": "python",
   "name": "python3"
  },
  "language_info": {
   "codemirror_mode": {
    "name": "ipython",
    "version": 3
   },
   "file_extension": ".py",
   "mimetype": "text/x-python",
   "name": "python",
   "nbconvert_exporter": "python",
   "pygments_lexer": "ipython3",
   "version": "3.6.6"
  }
 },
 "nbformat": 4,
 "nbformat_minor": 2
}
